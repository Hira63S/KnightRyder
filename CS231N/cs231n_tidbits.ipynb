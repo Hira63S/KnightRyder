{
 "cells": [
  {
   "cell_type": "markdown",
   "metadata": {},
   "source": [
    "### KNN"
   ]
  },
  {
   "cell_type": "code",
   "execution_count": 3,
   "metadata": {},
   "outputs": [],
   "source": [
    "import numpy as np"
   ]
  },
  {
   "cell_type": "code",
   "execution_count": 11,
   "metadata": {},
   "outputs": [],
   "source": [
    "# doing classification with KNN with 1 loop:\n",
    "\n",
    "X_train = np.array([[1, 23 , 42, 54, 23, 53],\n",
    "           [23, 78, 53, 2, 20, 12],\n",
    "           [14, 32, 43, 65, 23, 20],\n",
    "           [21, 76, 30, 87, 42, 12],\n",
    "           [21, 56, 23, 76, 86, 43]])\n",
    "\n",
    "X_test = np.array([[12, 54, 32, 67, 88, 55],\n",
    "          [32, 45, 68, 97, 34, 23],\n",
    "          [23, 75, 97, 45, 88, 65]])\n",
    "\n",
    "num_te = X_test.shape[0]\n",
    "num_tr = X_train.shape[0]\n",
    "\n",
    "dists = np.zeros((num_te, num_tr))\n",
    "for i in range(num_t):\n",
    "    dists[i, :] = np.sqrt(np.sum(X_train - X_test[i, :])**2)\n",
    "    "
   ]
  },
  {
   "cell_type": "code",
   "execution_count": 12,
   "metadata": {},
   "outputs": [
    {
     "data": {
      "text/plain": [
       "array([[386., 386., 386., 386., 386.],\n",
       "       [341., 341., 341., 341., 341.],\n",
       "       [811., 811., 811., 811., 811.]])"
      ]
     },
     "execution_count": 12,
     "metadata": {},
     "output_type": "execute_result"
    }
   ],
   "source": [
    "dists"
   ]
  },
  {
   "cell_type": "code",
   "execution_count": 13,
   "metadata": {},
   "outputs": [
    {
     "data": {
      "text/plain": [
       "array([[11155,  8738, 10751, 15501, 19037],\n",
       "       [11162,  9000, 12359, 16275, 16041],\n",
       "       [13721, 14150, 13142, 17484, 20697]])"
      ]
     },
     "execution_count": 13,
     "metadata": {},
     "output_type": "execute_result"
    }
   ],
   "source": [
    "dot = np.dot(X_test, X_train.T)\n",
    "dot"
   ]
  },
  {
   "cell_type": "code",
   "execution_count": null,
   "metadata": {},
   "outputs": [],
   "source": []
  }
 ],
 "metadata": {
  "kernelspec": {
   "display_name": "Python 3",
   "language": "python",
   "name": "python3"
  },
  "language_info": {
   "codemirror_mode": {
    "name": "ipython",
    "version": 3
   },
   "file_extension": ".py",
   "mimetype": "text/x-python",
   "name": "python",
   "nbconvert_exporter": "python",
   "pygments_lexer": "ipython3",
   "version": "3.8.5"
  }
 },
 "nbformat": 4,
 "nbformat_minor": 4
}
