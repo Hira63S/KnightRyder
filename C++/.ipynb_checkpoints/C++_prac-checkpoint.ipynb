{
 "cells": [
  {
   "cell_type": "markdown",
   "metadata": {},
   "source": [
    "## C++ Practice"
   ]
  },
  {
   "cell_type": "code",
   "execution_count": 2,
   "metadata": {},
   "outputs": [
    {
     "data": {
      "text/plain": [
       "' Add element at the end\\nAdds a new element at the end of the vector, after its current last element. The content of val is copied (or moved) to the new element.\\n'"
      ]
     },
     "execution_count": 2,
     "metadata": {},
     "output_type": "execute_result"
    }
   ],
   "source": [
    "# Push_back:\n",
    "''' Add element at the end\n",
    "Adds a new element at the end of the vector, after its current last element. The content of val is copied (or moved) to the new element.\n",
    "'''"
   ]
  },
  {
   "cell_type": "code",
   "execution_count": 5,
   "metadata": {},
   "outputs": [
    {
     "data": {
      "text/plain": [
       "'\\nC++ Structs\\nIn C++, classes and structs are blueprints that are used to create the instance of a class. Structs are used for lightweight objects such as Rectangle, color, Point, etc.\\n\\nUnlike class, structs in C++ are value type than reference type. It is useful if you have data that is not intended to be modified after creation of struct.\\n'"
      ]
     },
     "execution_count": 5,
     "metadata": {},
     "output_type": "execute_result"
    }
   ],
   "source": [
    "# STRUCTS:\n",
    "'''\n",
    "C++ Structs\n",
    "In C++, classes and structs are blueprints that are used to create the instance of a class. Structs are used for lightweight objects such as Rectangle, color, Point, etc.\n",
    "\n",
    "Unlike class, structs in C++ are value type than reference type. It is useful if you have data that is not intended to be modified after creation of struct.\n",
    "'''"
   ]
  },
  {
   "cell_type": "code",
   "execution_count": 6,
   "metadata": {},
   "outputs": [
    {
     "data": {
      "text/plain": [
       "\" The strcasecmp() function compares string1 and string2 without sensitivity to case. All alphabetic characters in string1 and string2 are converted to lowercase before comparison.\\n\\nThe strcasecmp() function operates on null terminated strings. The string arguments to the function are expected to contain a null character ('\\x00') marking the end of the string.\\n\""
      ]
     },
     "execution_count": 6,
     "metadata": {},
     "output_type": "execute_result"
    }
   ],
   "source": [
    "## Strcasecmp\n",
    "\n",
    "''' The strcasecmp() function compares string1 and string2 without sensitivity to case. All alphabetic characters in string1 and string2 are converted to lowercase before comparison.\n",
    "\n",
    "The strcasecmp() function operates on null terminated strings. The string arguments to the function are expected to contain a null character ('\\0') marking the end of the string.\n",
    "'''"
   ]
  },
  {
   "cell_type": "code",
   "execution_count": null,
   "metadata": {},
   "outputs": [],
   "source": []
  }
 ],
 "metadata": {
  "kernelspec": {
   "display_name": "Python 3",
   "language": "python",
   "name": "python3"
  },
  "language_info": {
   "codemirror_mode": {
    "name": "ipython",
    "version": 3
   },
   "file_extension": ".py",
   "mimetype": "text/x-python",
   "name": "python",
   "nbconvert_exporter": "python",
   "pygments_lexer": "ipython3",
   "version": "3.8.5"
  }
 },
 "nbformat": 4,
 "nbformat_minor": 4
}
