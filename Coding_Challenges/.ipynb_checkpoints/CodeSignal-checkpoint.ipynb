{
 "cells": [
  {
   "cell_type": "markdown",
   "metadata": {},
   "source": [
    "# CodeSignal Level 1"
   ]
  },
  {
   "cell_type": "markdown",
   "metadata": {},
   "source": [
    "Given a year, return the century it is in. The first century spans from the year 1 up to and including the year 100, the second - from the year 101 up to and including the year 200, etc.\n",
    "\n",
    "Example\n",
    "\n",
    "For year = 1905, the output should be\n",
    "centuryFromYear(year) = 20;\n",
    "For year = 1700, the output should be\n",
    "centuryFromYear(year) = 17."
   ]
  },
  {
   "cell_type": "code",
   "execution_count": 2,
   "metadata": {},
   "outputs": [],
   "source": [
    "def centuryFromYear(year):\n",
    "    return (year + 99) // 100\n",
    "\n",
    "\n",
    "def centuryFromYear(year):\n",
    "    return math.ceil(year/100)"
   ]
  },
  {
   "cell_type": "code",
   "execution_count": 1,
   "metadata": {},
   "outputs": [],
   "source": [
    "inputArray = [3, 6, -2, -5, 7, 3]"
   ]
  },
  {
   "cell_type": "code",
   "execution_count": 5,
   "metadata": {},
   "outputs": [
    {
     "name": "stdout",
     "output_type": "stream",
     "text": [
      "3\n",
      "6\n",
      "-2\n",
      "-5\n",
      "7\n"
     ]
    }
   ],
   "source": [
    "for i in range(len(inputArray)-1):\n",
    "    print(inputArray[i])"
   ]
  },
  {
   "cell_type": "code",
   "execution_count": 6,
   "metadata": {},
   "outputs": [],
   "source": [
    "i = 0\n",
    "mult = []\n",
    "# while inputArray:\n",
    "for i in range(len(inputArray)-1):\n",
    "    mul = inputArray[i] * inputArray[i+1]\n",
    "    mult.append(mul)\n",
    "    \n",
    "    "
   ]
  },
  {
   "cell_type": "code",
   "execution_count": 7,
   "metadata": {},
   "outputs": [
    {
     "data": {
      "text/plain": [
       "[18, -12, 10, -35, 21]"
      ]
     },
     "execution_count": 7,
     "metadata": {},
     "output_type": "execute_result"
    }
   ],
   "source": [
    "mult"
   ]
  },
  {
   "cell_type": "code",
   "execution_count": 8,
   "metadata": {},
   "outputs": [],
   "source": [
    "statues = [6, 2, 3, 8]"
   ]
  },
  {
   "cell_type": "code",
   "execution_count": 15,
   "metadata": {},
   "outputs": [],
   "source": [
    "statues = sorted(statues)\n",
    "diff = []\n",
    "for i in range(len(statues)-1):\n",
    "    minus = statues[i] - statues[i+1]\n",
    "    diff.append(minus)\n",
    "    "
   ]
  },
  {
   "cell_type": "code",
   "execution_count": 17,
   "metadata": {},
   "outputs": [
    {
     "data": {
      "text/plain": [
       "[2, 3, 6, 8]"
      ]
     },
     "execution_count": 17,
     "metadata": {},
     "output_type": "execute_result"
    }
   ],
   "source": [
    "statues"
   ]
  },
  {
   "cell_type": "code",
   "execution_count": 20,
   "metadata": {},
   "outputs": [],
   "source": [
    "diff = [x + 1 for x in diff]"
   ]
  },
  {
   "cell_type": "code",
   "execution_count": 21,
   "metadata": {},
   "outputs": [
    {
     "data": {
      "text/plain": [
       "[0, -2, -1]"
      ]
     },
     "execution_count": 21,
     "metadata": {},
     "output_type": "execute_result"
    }
   ],
   "source": [
    "diff"
   ]
  },
  {
   "cell_type": "code",
   "execution_count": 26,
   "metadata": {},
   "outputs": [],
   "source": [
    "tots = abs(sum((diff)))"
   ]
  },
  {
   "cell_type": "code",
   "execution_count": 27,
   "metadata": {},
   "outputs": [
    {
     "data": {
      "text/plain": [
       "3"
      ]
     },
     "execution_count": 27,
     "metadata": {},
     "output_type": "execute_result"
    }
   ],
   "source": [
    "abs(tots)"
   ]
  },
  {
   "cell_type": "code",
   "execution_count": 29,
   "metadata": {},
   "outputs": [],
   "source": [
    "seq = [1, 3, 2, 1]"
   ]
  },
  {
   "cell_type": "code",
   "execution_count": 28,
   "metadata": {},
   "outputs": [
    {
     "ename": "SyntaxError",
     "evalue": "'return' outside function (<ipython-input-28-734975b57cb0>, line 5)",
     "output_type": "error",
     "traceback": [
      "\u001b[1;36m  File \u001b[1;32m\"<ipython-input-28-734975b57cb0>\"\u001b[1;36m, line \u001b[1;32m5\u001b[0m\n\u001b[1;33m    return False\u001b[0m\n\u001b[1;37m    ^\u001b[0m\n\u001b[1;31mSyntaxError\u001b[0m\u001b[1;31m:\u001b[0m 'return' outside function\n"
     ]
    }
   ],
   "source": [
    "for i in range(len(seq)-1):\n",
    "    diff = seq[i] - seq[i-1]\n",
    "    tots = abs(sum(diff))\n",
    "    if tots > 1:\n",
    "        return False\n",
    "    else:\n",
    "        return True"
   ]
  },
  {
   "cell_type": "code",
   "execution_count": null,
   "metadata": {},
   "outputs": [],
   "source": [
    "i = 0\n",
    "# while seq:\n",
    "#     print(i)"
   ]
  },
  {
   "cell_type": "code",
   "execution_count": 3,
   "metadata": {},
   "outputs": [],
   "source": [
    "import numpy as np"
   ]
  },
  {
   "cell_type": "code",
   "execution_count": 27,
   "metadata": {},
   "outputs": [],
   "source": [
    "mat = np.array([[0, 1, 1, 2], [0, 5, 0, 0], [2, 0, 3, 3]])"
   ]
  },
  {
   "cell_type": "code",
   "execution_count": 84,
   "metadata": {},
   "outputs": [],
   "source": [
    "mat = [[0,1,1,2], \n",
    " [0,5,0,0], \n",
    " [2,0,3,3]]"
   ]
  },
  {
   "cell_type": "code",
   "execution_count": 88,
   "metadata": {},
   "outputs": [
    {
     "data": {
      "text/plain": [
       "4"
      ]
     },
     "execution_count": 88,
     "metadata": {},
     "output_type": "execute_result"
    }
   ],
   "source": [
    "len(mat[1])"
   ]
  },
  {
   "cell_type": "code",
   "execution_count": 86,
   "metadata": {},
   "outputs": [
    {
     "name": "stdout",
     "output_type": "stream",
     "text": [
      "0\n",
      "0\n",
      "2\n",
      "3\n",
      "1\n"
     ]
    }
   ],
   "source": [
    "for i in range(len(mat)):\n",
    "    for j in range(len(mat[i])):\n",
    "        if mat[i][j] == 0:\n",
    "            print(j)"
   ]
  },
  {
   "cell_type": "code",
   "execution_count": 92,
   "metadata": {},
   "outputs": [
    {
     "name": "stdout",
     "output_type": "stream",
     "text": [
      "[0, 1, 1, 2]\n",
      "[0, 5, 0, 0]\n",
      "[2, 0, 3, 3]\n"
     ]
    },
    {
     "ename": "IndexError",
     "evalue": "list index out of range",
     "output_type": "error",
     "traceback": [
      "\u001b[1;31m---------------------------------------------------------------------------\u001b[0m",
      "\u001b[1;31mIndexError\u001b[0m                                Traceback (most recent call last)",
      "\u001b[1;32m<ipython-input-92-d8ce12e1e4c5>\u001b[0m in \u001b[0;36m<module>\u001b[1;34m\u001b[0m\n\u001b[0;32m      1\u001b[0m \u001b[0mtots\u001b[0m \u001b[1;33m=\u001b[0m \u001b[1;36m0\u001b[0m\u001b[1;33m\u001b[0m\u001b[1;33m\u001b[0m\u001b[0m\n\u001b[0;32m      2\u001b[0m \u001b[1;32mfor\u001b[0m \u001b[0mi\u001b[0m \u001b[1;32min\u001b[0m \u001b[0mrange\u001b[0m\u001b[1;33m(\u001b[0m\u001b[0mlen\u001b[0m\u001b[1;33m(\u001b[0m\u001b[0mmat\u001b[0m\u001b[1;33m[\u001b[0m\u001b[1;36m0\u001b[0m\u001b[1;33m]\u001b[0m\u001b[1;33m)\u001b[0m\u001b[1;33m)\u001b[0m\u001b[1;33m:\u001b[0m\u001b[1;33m\u001b[0m\u001b[1;33m\u001b[0m\u001b[0m\n\u001b[1;32m----> 3\u001b[1;33m     \u001b[0mprint\u001b[0m\u001b[1;33m(\u001b[0m\u001b[0mmat\u001b[0m\u001b[1;33m[\u001b[0m\u001b[0mi\u001b[0m\u001b[1;33m]\u001b[0m\u001b[1;33m)\u001b[0m\u001b[1;33m\u001b[0m\u001b[1;33m\u001b[0m\u001b[0m\n\u001b[0m\u001b[0;32m      4\u001b[0m \u001b[1;31m#     for j in range(len(mat)):\u001b[0m\u001b[1;33m\u001b[0m\u001b[1;33m\u001b[0m\u001b[1;33m\u001b[0m\u001b[0m\n\u001b[0;32m      5\u001b[0m \u001b[1;31m#         if mat[j][i] != 0:\u001b[0m\u001b[1;33m\u001b[0m\u001b[1;33m\u001b[0m\u001b[1;33m\u001b[0m\u001b[0m\n",
      "\u001b[1;31mIndexError\u001b[0m: list index out of range"
     ]
    }
   ],
   "source": [
    "tots = 0\n",
    "for i in range(len(mat[0])):\n",
    "    print(mat[i])\n",
    "    for j in range(len(mat)):\n",
    "        if mat[j][i] != 0:\n",
    "            tots  += mat[j][i]\n",
    "        # if it issss equal to zero.. we do not follow down the column any more at alll\n",
    "        # AND moveo onto the next column.\n",
    "        else:\n",
    "            break"
   ]
  },
  {
   "cell_type": "code",
   "execution_count": 90,
   "metadata": {},
   "outputs": [
    {
     "data": {
      "text/plain": [
       "9"
      ]
     },
     "execution_count": 90,
     "metadata": {},
     "output_type": "execute_result"
    }
   ],
   "source": [
    "tots"
   ]
  },
  {
   "cell_type": "code",
   "execution_count": 50,
   "metadata": {},
   "outputs": [],
   "source": [
    "mat = np.array(mat)"
   ]
  },
  {
   "cell_type": "code",
   "execution_count": null,
   "metadata": {},
   "outputs": [],
   "source": [
    "indices = np.argwhere(mat[i]==0)"
   ]
  },
  {
   "cell_type": "code",
   "execution_count": 75,
   "metadata": {},
   "outputs": [],
   "source": [
    "mat = [[0,1,1,2], \n",
    " [0,5,0,0], \n",
    " [2,0,3,3]]"
   ]
  },
  {
   "cell_type": "code",
   "execution_count": 82,
   "metadata": {},
   "outputs": [
    {
     "name": "stdout",
     "output_type": "stream",
     "text": [
      "0\n",
      "[0, 1, 1, 2]\n",
      "indices 0: 0\n",
      "1\n",
      "[0, 5, 0, 0]\n",
      "indices 0: 0\n",
      "2\n",
      "[2, 0, 3, 3]\n",
      "indices 0: 1\n"
     ]
    }
   ],
   "source": [
    "indices = {}\n",
    "for i in range(len(mat)):\n",
    "    print(i)\n",
    "    print(mat[i])\n",
    "    zero = mat[i].index(0)\n",
    "    indices[i] = zero\n",
    "    print(\"indices 0:\", zero)"
   ]
  },
  {
   "cell_type": "code",
   "execution_count": 83,
   "metadata": {},
   "outputs": [
    {
     "data": {
      "text/plain": [
       "{0: 0, 1: 0, 2: 1}"
      ]
     },
     "execution_count": 83,
     "metadata": {},
     "output_type": "execute_result"
    }
   ],
   "source": [
    "indices"
   ]
  },
  {
   "cell_type": "code",
   "execution_count": 77,
   "metadata": {},
   "outputs": [
    {
     "name": "stdout",
     "output_type": "stream",
     "text": [
      "1\n",
      "[[0, 1, 1, 2], [0, 5, 0, 0], [2, 0, 3, 3]]\n"
     ]
    }
   ],
   "source": [
    "# go through the first list and see if it has 0s, save the index value\n",
    "indices = []\n",
    "for i in range(len(mat)):\n",
    "    # got the index in the first array\n",
    "    zero = mat[i].index(0)\n",
    "    indices.append(zero)\n",
    "    # zero the elements in that location\n",
    "#     mat[i+1] = mat[i][zero]\n",
    "    \n",
    "print(zero)\n",
    "print(mat)"
   ]
  },
  {
   "cell_type": "code",
   "execution_count": 78,
   "metadata": {},
   "outputs": [
    {
     "data": {
      "text/plain": [
       "[0, 0, 1]"
      ]
     },
     "execution_count": 78,
     "metadata": {},
     "output_type": "execute_result"
    }
   ],
   "source": [
    "indices"
   ]
  },
  {
   "cell_type": "code",
   "execution_count": 53,
   "metadata": {},
   "outputs": [
    {
     "name": "stdout",
     "output_type": "stream",
     "text": [
      "[[0 0]\n",
      " [1 0]\n",
      " [1 2]\n",
      " [1 3]\n",
      " [2 1]]\n"
     ]
    }
   ],
   "source": [
    "for i in range(len(mat)):\n",
    "    indices = np.argwhere(mat==0)\n",
    "    first_sum = sum(mat[0])\n",
    "    # next if the next array has numbers in the previous 0 location:\n",
    "    \n",
    "    j, k = indices\n",
    "\n",
    "print(indices)\n",
    "    "
   ]
  },
  {
   "cell_type": "code",
   "execution_count": 59,
   "metadata": {},
   "outputs": [
    {
     "data": {
      "text/plain": [
       "1"
      ]
     },
     "execution_count": 59,
     "metadata": {},
     "output_type": "execute_result"
    }
   ],
   "source": [
    "indices[1][0]"
   ]
  },
  {
   "cell_type": "code",
   "execution_count": 61,
   "metadata": {},
   "outputs": [
    {
     "data": {
      "text/plain": [
       "(0, 0)"
      ]
     },
     "execution_count": 61,
     "metadata": {},
     "output_type": "execute_result"
    }
   ],
   "source": [
    "j, k = indices[0]\n",
    "j, k"
   ]
  },
  {
   "cell_type": "code",
   "execution_count": 44,
   "metadata": {},
   "outputs": [
    {
     "name": "stdout",
     "output_type": "stream",
     "text": [
      "0\n",
      "0\n",
      "0\n",
      "0\n",
      "0\n"
     ]
    }
   ],
   "source": [
    "for i in range(len(mat)):\n",
    "#     print(i)\n",
    "#     lis = [x == 0 where x ]\n",
    "    for j in mat[i]:\n",
    "        if j == 0:\n",
    "            print(j)\n",
    "#             print(mat[i])"
   ]
  },
  {
   "cell_type": "code",
   "execution_count": 46,
   "metadata": {},
   "outputs": [
    {
     "ename": "TypeError",
     "evalue": "unsupported operand type(s) for +: 'int' and 'list'",
     "output_type": "error",
     "traceback": [
      "\u001b[1;31m---------------------------------------------------------------------------\u001b[0m",
      "\u001b[1;31mTypeError\u001b[0m                                 Traceback (most recent call last)",
      "\u001b[1;32m<ipython-input-46-da02e1385fb2>\u001b[0m in \u001b[0;36m<module>\u001b[1;34m\u001b[0m\n\u001b[1;32m----> 1\u001b[1;33m \u001b[0mtots\u001b[0m \u001b[1;33m=\u001b[0m \u001b[0msum\u001b[0m\u001b[1;33m(\u001b[0m\u001b[0mmat\u001b[0m\u001b[1;33m)\u001b[0m\u001b[1;33m\u001b[0m\u001b[1;33m\u001b[0m\u001b[0m\n\u001b[0m\u001b[0;32m      2\u001b[0m \u001b[0mtots\u001b[0m\u001b[1;33m\u001b[0m\u001b[1;33m\u001b[0m\u001b[0m\n",
      "\u001b[1;31mTypeError\u001b[0m: unsupported operand type(s) for +: 'int' and 'list'"
     ]
    }
   ],
   "source": [
    "tots = sum(mat)\n",
    "tots"
   ]
  },
  {
   "cell_type": "code",
   "execution_count": null,
   "metadata": {},
   "outputs": [],
   "source": []
  },
  {
   "cell_type": "code",
   "execution_count": 20,
   "metadata": {},
   "outputs": [
    {
     "data": {
      "text/plain": [
       "(array([0, 1, 1, 1, 2], dtype=int64), array([0, 0, 2, 3, 1], dtype=int64))"
      ]
     },
     "execution_count": 20,
     "metadata": {},
     "output_type": "execute_result"
    }
   ],
   "source": [
    "tots = np.where(mat==0)\n",
    "tots"
   ]
  },
  {
   "cell_type": "code",
   "execution_count": 13,
   "metadata": {},
   "outputs": [
    {
     "name": "stdout",
     "output_type": "stream",
     "text": [
      "[2 6 4 5]\n"
     ]
    }
   ],
   "source": [
    "print(tots)"
   ]
  },
  {
   "cell_type": "code",
   "execution_count": 28,
   "metadata": {},
   "outputs": [
    {
     "data": {
      "text/plain": [
       "array([[0, 0],\n",
       "       [1, 0],\n",
       "       [1, 2],\n",
       "       [1, 3],\n",
       "       [2, 1]], dtype=int64)"
      ]
     },
     "execution_count": 28,
     "metadata": {},
     "output_type": "execute_result"
    }
   ],
   "source": [
    "zeros = np.argwhere(mat==0)\n",
    "zeros"
   ]
  },
  {
   "cell_type": "code",
   "execution_count": 32,
   "metadata": {},
   "outputs": [
    {
     "data": {
      "text/plain": [
       "array([0, 1, 1, 2])"
      ]
     },
     "execution_count": 32,
     "metadata": {},
     "output_type": "execute_result"
    }
   ],
   "source": [
    "mat[zeros[0][0]]"
   ]
  },
  {
   "cell_type": "code",
   "execution_count": 25,
   "metadata": {},
   "outputs": [
    {
     "name": "stdout",
     "output_type": "stream",
     "text": [
      "0\n",
      "1\n",
      "1\n",
      "2\n",
      "0\n",
      "5\n",
      "0\n",
      "0\n",
      "2\n",
      "0\n",
      "3\n",
      "3\n"
     ]
    }
   ],
   "source": [
    "for i in range(len(mat)):\n",
    "#     print(i)\n",
    "    for j in mat[i]:\n",
    "        mat[zeros[0]]"
   ]
  },
  {
   "cell_type": "code",
   "execution_count": null,
   "metadata": {},
   "outputs": [],
   "source": []
  },
  {
   "cell_type": "code",
   "execution_count": 11,
   "metadata": {},
   "outputs": [
    {
     "ename": "IndexError",
     "evalue": "index 3 is out of bounds for axis 0 with size 3",
     "output_type": "error",
     "traceback": [
      "\u001b[1;31m---------------------------------------------------------------------------\u001b[0m",
      "\u001b[1;31mIndexError\u001b[0m                                Traceback (most recent call last)",
      "\u001b[1;32m<ipython-input-11-704da2aac63b>\u001b[0m in \u001b[0;36m<module>\u001b[1;34m\u001b[0m\n\u001b[0;32m      3\u001b[0m     \u001b[1;32mfor\u001b[0m \u001b[0mj\u001b[0m \u001b[1;32min\u001b[0m \u001b[0mrange\u001b[0m\u001b[1;33m(\u001b[0m\u001b[0mlen\u001b[0m\u001b[1;33m(\u001b[0m\u001b[0mmat\u001b[0m\u001b[1;33m[\u001b[0m\u001b[0mi\u001b[0m\u001b[1;33m]\u001b[0m\u001b[1;33m)\u001b[0m\u001b[1;33m)\u001b[0m\u001b[1;33m:\u001b[0m\u001b[1;33m\u001b[0m\u001b[1;33m\u001b[0m\u001b[0m\n\u001b[0;32m      4\u001b[0m         \u001b[1;32mif\u001b[0m \u001b[0mmat\u001b[0m\u001b[1;33m[\u001b[0m\u001b[0mi\u001b[0m\u001b[1;33m]\u001b[0m\u001b[1;33m[\u001b[0m\u001b[0mj\u001b[0m\u001b[1;33m]\u001b[0m \u001b[1;33m==\u001b[0m \u001b[1;36m0\u001b[0m\u001b[1;33m:\u001b[0m\u001b[1;33m\u001b[0m\u001b[1;33m\u001b[0m\u001b[0m\n\u001b[1;32m----> 5\u001b[1;33m             \u001b[0mmat\u001b[0m\u001b[1;33m[\u001b[0m\u001b[0mi\u001b[0m\u001b[1;33m+\u001b[0m\u001b[1;36m1\u001b[0m\u001b[1;33m]\u001b[0m\u001b[1;33m[\u001b[0m\u001b[0mj\u001b[0m\u001b[1;33m]\u001b[0m \u001b[1;33m==\u001b[0m \u001b[1;36m0\u001b[0m\u001b[1;33m\u001b[0m\u001b[1;33m\u001b[0m\u001b[0m\n\u001b[0m\u001b[0;32m      6\u001b[0m \u001b[1;33m\u001b[0m\u001b[0m\n\u001b[0;32m      7\u001b[0m \u001b[1;31m#             mat.remove(mat[i][j])\u001b[0m\u001b[1;33m\u001b[0m\u001b[1;33m\u001b[0m\u001b[1;33m\u001b[0m\u001b[0m\n",
      "\u001b[1;31mIndexError\u001b[0m: index 3 is out of bounds for axis 0 with size 3"
     ]
    }
   ],
   "source": [
    "for i in range(len(mat)):\n",
    "#     print(mat[i])\n",
    "    for j in range(len(mat[i])):\n",
    "        if mat[i][j] == 0:\n",
    "            mat[i+1][j] == 0\n",
    "            \n",
    "#             mat.remove(mat[i][j]) \n",
    "        \n",
    "            "
   ]
  },
  {
   "cell_type": "code",
   "execution_count": 154,
   "metadata": {},
   "outputs": [],
   "source": [
    "inputArray = [\"aba\", \"aa\", \"ad\", \"vcd\", \"aba\"]"
   ]
  },
  {
   "cell_type": "code",
   "execution_count": 98,
   "metadata": {},
   "outputs": [
    {
     "name": "stdout",
     "output_type": "stream",
     "text": [
      "3\n",
      "2\n",
      "2\n",
      "3\n",
      "3\n"
     ]
    }
   ],
   "source": [
    "for i in range(len(inputArray)):\n",
    "    \n",
    "    print(len(inputArray[i]))"
   ]
  },
  {
   "cell_type": "code",
   "execution_count": 172,
   "metadata": {},
   "outputs": [],
   "source": [
    "inputArray = [\"a\", \n",
    " \"abc\", \n",
    " \"cbd\", \n",
    " \"zzzzzz\", \n",
    " \"a\", \n",
    " \"abcdef\", \n",
    " \"asasa\", \n",
    " \"aaaaaa\"]"
   ]
  },
  {
   "cell_type": "code",
   "execution_count": 177,
   "metadata": {},
   "outputs": [
    {
     "name": "stdout",
     "output_type": "stream",
     "text": [
      "abc\n",
      "cbd\n",
      "zzzzzz\n",
      "a\n",
      "abcdef\n",
      "asasa\n",
      "aaaaaa\n"
     ]
    }
   ],
   "source": [
    "maxes = []\n",
    "ret = []\n",
    "maxes.append(inputArray[0])\n",
    "j = 0\n",
    "for i in range(1, len(inputArray)):\n",
    "    print(inputArray[i])\n",
    "    if len(maxes[j]) > len(inputArray[i]):\n",
    "#         print(maxes)\n",
    "        continue\n",
    "    elif len(maxes[j]) == len(inputArray[i]):\n",
    "        maxes.append(inputArray[i])\n",
    "        j += 1\n",
    "    elif len(maxes[j]) < len(inputArray[i]):\n",
    "        maxes[j] = inputArray[i]\n",
    "        # also check if the previous element also has lower length than the next element.\n",
    "        "
   ]
  },
  {
   "cell_type": "code",
   "execution_count": 178,
   "metadata": {},
   "outputs": [
    {
     "data": {
      "text/plain": [
       "['abc', 'zzzzzz', 'abcdef', 'aaaaaa']"
      ]
     },
     "execution_count": 178,
     "metadata": {},
     "output_type": "execute_result"
    }
   ],
   "source": [
    "maxes"
   ]
  },
  {
   "cell_type": "code",
   "execution_count": 182,
   "metadata": {},
   "outputs": [
    {
     "data": {
      "text/plain": [
       "6"
      ]
     },
     "execution_count": 182,
     "metadata": {},
     "output_type": "execute_result"
    }
   ],
   "source": [
    "res = len(max(inputArray, key = len)) \n",
    "res"
   ]
  },
  {
   "cell_type": "code",
   "execution_count": 184,
   "metadata": {},
   "outputs": [],
   "source": [
    "max_len = len(max(inputArray, key=len))\n",
    "ret = []\n",
    "for i in range(len(inputArray)):\n",
    "    if len(inputArray[i]) < max_len:\n",
    "        continue\n",
    "    elif len(inputArray[i]) == max_len:\n",
    "        ret.append(inputArray[i])\n",
    "        "
   ]
  },
  {
   "cell_type": "code",
   "execution_count": 185,
   "metadata": {},
   "outputs": [
    {
     "data": {
      "text/plain": [
       "['zzzzzz', 'abcdef', 'aaaaaa']"
      ]
     },
     "execution_count": 185,
     "metadata": {},
     "output_type": "execute_result"
    }
   ],
   "source": [
    "ret\n"
   ]
  },
  {
   "cell_type": "code",
   "execution_count": 180,
   "metadata": {},
   "outputs": [
    {
     "name": "stdout",
     "output_type": "stream",
     "text": [
      "Maxes: ['a']\n",
      "next_elm abc\n",
      "Maxes: ['abc']\n",
      "next_elm cbd\n"
     ]
    },
    {
     "ename": "IndexError",
     "evalue": "list index out of range",
     "output_type": "error",
     "traceback": [
      "\u001b[1;31m---------------------------------------------------------------------------\u001b[0m",
      "\u001b[1;31mIndexError\u001b[0m                                Traceback (most recent call last)",
      "\u001b[1;32m<ipython-input-180-4940ca69af48>\u001b[0m in \u001b[0;36m<module>\u001b[1;34m\u001b[0m\n\u001b[0;32m      9\u001b[0m     \u001b[0mnext_elm\u001b[0m \u001b[1;33m=\u001b[0m \u001b[0minputArray\u001b[0m\u001b[1;33m[\u001b[0m\u001b[0mi\u001b[0m\u001b[1;33m+\u001b[0m\u001b[1;36m1\u001b[0m\u001b[1;33m]\u001b[0m\u001b[1;33m\u001b[0m\u001b[1;33m\u001b[0m\u001b[0m\n\u001b[0;32m     10\u001b[0m     \u001b[0mprint\u001b[0m\u001b[1;33m(\u001b[0m\u001b[1;34m\"next_elm\"\u001b[0m\u001b[1;33m,\u001b[0m \u001b[0mnext_elm\u001b[0m\u001b[1;33m)\u001b[0m\u001b[1;33m\u001b[0m\u001b[1;33m\u001b[0m\u001b[0m\n\u001b[1;32m---> 11\u001b[1;33m     \u001b[1;32mif\u001b[0m \u001b[0mlen\u001b[0m\u001b[1;33m(\u001b[0m\u001b[0mmaxes\u001b[0m\u001b[1;33m[\u001b[0m\u001b[0mi\u001b[0m\u001b[1;33m]\u001b[0m\u001b[1;33m)\u001b[0m \u001b[1;33m<\u001b[0m \u001b[0mlen\u001b[0m\u001b[1;33m(\u001b[0m\u001b[0minputArray\u001b[0m\u001b[1;33m[\u001b[0m\u001b[0mi\u001b[0m\u001b[1;33m+\u001b[0m\u001b[1;36m1\u001b[0m\u001b[1;33m]\u001b[0m\u001b[1;33m)\u001b[0m\u001b[1;33m:\u001b[0m\u001b[1;33m\u001b[0m\u001b[1;33m\u001b[0m\u001b[0m\n\u001b[0m\u001b[0;32m     12\u001b[0m         \u001b[0mmaxes\u001b[0m\u001b[1;33m[\u001b[0m\u001b[0mi\u001b[0m\u001b[1;33m]\u001b[0m \u001b[1;33m=\u001b[0m \u001b[0minputArray\u001b[0m\u001b[1;33m[\u001b[0m\u001b[0mi\u001b[0m\u001b[1;33m+\u001b[0m\u001b[1;36m1\u001b[0m\u001b[1;33m]\u001b[0m\u001b[1;33m\u001b[0m\u001b[1;33m\u001b[0m\u001b[0m\n\u001b[0;32m     13\u001b[0m     \u001b[1;32melif\u001b[0m \u001b[0mlen\u001b[0m\u001b[1;33m(\u001b[0m\u001b[0mmaxes\u001b[0m\u001b[1;33m[\u001b[0m\u001b[0mi\u001b[0m\u001b[1;33m]\u001b[0m\u001b[1;33m)\u001b[0m \u001b[1;33m==\u001b[0m \u001b[0mlen\u001b[0m\u001b[1;33m(\u001b[0m\u001b[0minputArray\u001b[0m\u001b[1;33m[\u001b[0m\u001b[0mi\u001b[0m\u001b[1;33m+\u001b[0m\u001b[1;36m1\u001b[0m\u001b[1;33m]\u001b[0m\u001b[1;33m)\u001b[0m\u001b[1;33m:\u001b[0m\u001b[1;33m\u001b[0m\u001b[1;33m\u001b[0m\u001b[0m\n",
      "\u001b[1;31mIndexError\u001b[0m: list index out of range"
     ]
    }
   ],
   "source": [
    "arr = []\n",
    "maxes = []\n",
    "maxes.append(inputArray[0])\n",
    "for i in range(len(inputArray)):\n",
    "    # append first element\n",
    "    # if the element in visited has greater length than the next item in the original list,\n",
    "    # move on\n",
    "    print(\"Maxes:\", maxes)\n",
    "    next_elm = inputArray[i+1]\n",
    "    print(\"next_elm\", next_elm)\n",
    "    if len(maxes[i]) < len(inputArray[i+1]):\n",
    "        maxes[i] = inputArray[i+1]\n",
    "    elif len(maxes[i]) == len(inputArray[i+1]):\n",
    "        maxes.append(inputArray[i+1])\n",
    "    elif len(maxes[i]) > len(inputArray[i+1]):\n",
    "        continue\n",
    "#     for i in range(len(maxes)):\n",
    "#         print(\"First i in Maxes:\", maxes[i])\n",
    "#         if len(maxes[i]) < len(inputArray[i+1]):\n",
    "#             maxes[i] = inputArray[i+1]\n",
    "\n",
    "#         elif len(maxes[i]) == len(inputArray[i+1]):\n",
    "#             maxes.append(inputArray[i+1])\n",
    "#         elif len(maxes[i]) > len(inputArray[i+1]):\n",
    "#             continue\n",
    "#         else:\n",
    "#             continue\n",
    "\n",
    "#             maxes.replace(maxes[i], inputArray[i+1])\n",
    "    \n",
    "            \n",
    "#     length = len(inputArray[i])\n",
    "#     maxes.append(length)\n",
    "#     max_len = max((maxes))\n",
    "#     arr.append(max(len(inputArray[i])))"
   ]
  },
  {
   "cell_type": "code",
   "execution_count": 130,
   "metadata": {},
   "outputs": [
    {
     "data": {
      "text/plain": [
       "['aba']"
      ]
     },
     "execution_count": 130,
     "metadata": {},
     "output_type": "execute_result"
    }
   ],
   "source": [
    "maxes"
   ]
  },
  {
   "cell_type": "code",
   "execution_count": 105,
   "metadata": {},
   "outputs": [
    {
     "data": {
      "text/plain": [
       "3"
      ]
     },
     "execution_count": 105,
     "metadata": {},
     "output_type": "execute_result"
    }
   ],
   "source": [
    "max_len"
   ]
  },
  {
   "cell_type": "code",
   "execution_count": null,
   "metadata": {},
   "outputs": [],
   "source": []
  },
  {
   "cell_type": "code",
   "execution_count": 190,
   "metadata": {},
   "outputs": [],
   "source": [
    "s1 = 'aabcc'\n",
    "s2 = 'adcaa'"
   ]
  },
  {
   "cell_type": "code",
   "execution_count": 187,
   "metadata": {},
   "outputs": [
    {
     "data": {
      "text/plain": [
       "['aabcc']"
      ]
     },
     "execution_count": 187,
     "metadata": {},
     "output_type": "execute_result"
    }
   ],
   "source": [
    "s.split()"
   ]
  },
  {
   "cell_type": "code",
   "execution_count": 189,
   "metadata": {},
   "outputs": [
    {
     "data": {
      "text/plain": [
       "['a', 'a', 'b', 'c', 'c']"
      ]
     },
     "execution_count": 189,
     "metadata": {},
     "output_type": "execute_result"
    }
   ],
   "source": [
    "list(s)"
   ]
  },
  {
   "cell_type": "code",
   "execution_count": 197,
   "metadata": {},
   "outputs": [],
   "source": [
    "one = list(s1)\n",
    "two = list(s2)\n",
    "count = 0\n",
    "for i in two:\n",
    "#     print(i)\n",
    "    for j in one:\n",
    "        if i == j:\n",
    "            one.remove(i)\n",
    "            two.remove(j)\n",
    "            count += 1\n"
   ]
  },
  {
   "cell_type": "code",
   "execution_count": 198,
   "metadata": {},
   "outputs": [
    {
     "data": {
      "text/plain": [
       "3"
      ]
     },
     "execution_count": 198,
     "metadata": {},
     "output_type": "execute_result"
    }
   ],
   "source": [
    "count"
   ]
  },
  {
   "cell_type": "code",
   "execution_count": 200,
   "metadata": {},
   "outputs": [],
   "source": [
    "from collections import Counter"
   ]
  },
  {
   "cell_type": "code",
   "execution_count": 208,
   "metadata": {},
   "outputs": [],
   "source": [
    "dict1 = Counter(s1)\n",
    "dict2= Counter(s2)"
   ]
  },
  {
   "cell_type": "code",
   "execution_count": 209,
   "metadata": {},
   "outputs": [
    {
     "data": {
      "text/plain": [
       "Counter({'a': 2, 'b': 1, 'c': 2})"
      ]
     },
     "execution_count": 209,
     "metadata": {},
     "output_type": "execute_result"
    }
   ],
   "source": [
    "dict1"
   ]
  },
  {
   "cell_type": "code",
   "execution_count": 210,
   "metadata": {},
   "outputs": [],
   "source": [
    "common = dict1& dict2"
   ]
  },
  {
   "cell_type": "code",
   "execution_count": 213,
   "metadata": {},
   "outputs": [
    {
     "data": {
      "text/plain": [
       "3"
      ]
     },
     "execution_count": 213,
     "metadata": {},
     "output_type": "execute_result"
    }
   ],
   "source": [
    "sum(common.values())"
   ]
  },
  {
   "cell_type": "markdown",
   "metadata": {},
   "source": [
    "# Python Set\n",
    "\n",
    "Python sets are used to store multiple items in a single variable. For example, if we had multiple similar elements, a set would use only one element all the existing elements. And they will be saved in '{' and '}' to represent a set. "
   ]
  },
  {
   "cell_type": "code",
   "execution_count": 225,
   "metadata": {},
   "outputs": [
    {
     "data": {
      "text/plain": [
       "{'a', 'b', 'c'}"
      ]
     },
     "execution_count": 225,
     "metadata": {},
     "output_type": "execute_result"
    }
   ],
   "source": [
    "s1 = 'aabcc'\n",
    "set_1 = set(s1)\n",
    "set_1"
   ]
  },
  {
   "cell_type": "code",
   "execution_count": 226,
   "metadata": {},
   "outputs": [
    {
     "name": "stdout",
     "output_type": "stream",
     "text": [
      "b\n",
      "a\n",
      "c\n"
     ]
    }
   ],
   "source": [
    "for i in set(s1):\n",
    "    print(i)"
   ]
  },
  {
   "cell_type": "code",
   "execution_count": 235,
   "metadata": {},
   "outputs": [
    {
     "data": {
      "text/plain": [
       "{'h', 'j', 'k', 'l'}"
      ]
     },
     "execution_count": 235,
     "metadata": {},
     "output_type": "execute_result"
    }
   ],
   "source": [
    "test = 'hhjjjlllkkkk'\n",
    "set_t = set(test)\n",
    "set_t"
   ]
  },
  {
   "cell_type": "code",
   "execution_count": 236,
   "metadata": {},
   "outputs": [
    {
     "name": "stdout",
     "output_type": "stream",
     "text": [
      "j\n",
      "k\n",
      "h\n",
      "l\n"
     ]
    }
   ],
   "source": [
    "for i in set_t:\n",
    "    print(i)"
   ]
  },
  {
   "cell_type": "code",
   "execution_count": 237,
   "metadata": {},
   "outputs": [
    {
     "data": {
      "text/plain": [
       "3"
      ]
     },
     "execution_count": 237,
     "metadata": {},
     "output_type": "execute_result"
    }
   ],
   "source": [
    "# i in set are 'a', 'b', 'c'\n",
    "# \n",
    "'''\n",
    "for i in set(s1):\n",
    "    print('i: {} and s1.count(i): {}'.format(i, s1.count(i)))\n",
    "    # minimum function decides on the element that happens the minimum number of times between\n",
    "    # the two strings i.e. if the list a has 2 'a's but the second one has 3 'a's we care about the\n",
    "    # 2 in the first list. \n",
    "    com = min(s1.count(i), s2.count(i))\n",
    "    print(com)\n",
    "'''\n",
    "\n",
    "count = sum(min(s1.count(i), s2.count(i)) for i in set(s1))\n",
    "count\n"
   ]
  },
  {
   "cell_type": "markdown",
   "metadata": {},
   "source": [
    "WE convert the first string into a set, getting the elements that exist in the set and conjugating them into one instance so that only if the elements exist in the first string, would we look for them in the second one.\n",
    "THEN, for the i-th element that exists in the set, we look for the minimum of count in both strings i.e. if the element 'a' exists in string a as shown by the set(s1), we would get the count for that element in both string1 and string2 and get the minimum of both values because we only care about the minimum instance in both elements i..e no overlapping. THEN, we sum up the minimum counts for all the elements and get the counter."
   ]
  },
  {
   "cell_type": "markdown",
   "metadata": {},
   "source": [
    "### Another approach\n",
    "\n"
   ]
  },
  {
   "cell_type": "code",
   "execution_count": 247,
   "metadata": {},
   "outputs": [
    {
     "name": "stdout",
     "output_type": "stream",
     "text": [
      "6\n"
     ]
    }
   ],
   "source": [
    "n = 239017\n",
    "\n",
    "str_n = str(n)\n",
    "len_n = len(str_n)\n",
    "print(len_n)\n",
    "half_n = int(len_n/2) \n",
    "half_str = int(str_n[:half_n])"
   ]
  },
  {
   "cell_type": "code",
   "execution_count": 246,
   "metadata": {},
   "outputs": [
    {
     "data": {
      "text/plain": [
       "239"
      ]
     },
     "execution_count": 246,
     "metadata": {},
     "output_type": "execute_result"
    }
   ],
   "source": [
    "int(half_str)"
   ]
  },
  {
   "cell_type": "code",
   "execution_count": 245,
   "metadata": {},
   "outputs": [
    {
     "data": {
      "text/plain": [
       "17"
      ]
     },
     "execution_count": 245,
     "metadata": {},
     "output_type": "execute_result"
    }
   ],
   "source": [
    "int(str_n[half_n:])"
   ]
  },
  {
   "cell_type": "code",
   "execution_count": null,
   "metadata": {},
   "outputs": [],
   "source": []
  },
  {
   "cell_type": "markdown",
   "metadata": {},
   "source": [
    "### Replace Trees Problem\n",
    "\n",
    " Using **enumerate()** to work with an array"
   ]
  },
  {
   "cell_type": "code",
   "execution_count": 2,
   "metadata": {},
   "outputs": [],
   "source": [
    "import numpy as np"
   ]
  },
  {
   "cell_type": "code",
   "execution_count": 3,
   "metadata": {},
   "outputs": [
    {
     "data": {
      "text/plain": [
       "array([0., 0., 0., 0., 0., 0., 0., 0.])"
      ]
     },
     "execution_count": 3,
     "metadata": {},
     "output_type": "execute_result"
    }
   ],
   "source": [
    "a = [-1, 150, 190, 170, -1, -1, 160, 180]\n",
    "a_t = np.zeros(len(a))\n",
    "a_t\n"
   ]
  },
  {
   "cell_type": "code",
   "execution_count": 4,
   "metadata": {},
   "outputs": [
    {
     "data": {
      "text/plain": [
       "numpy.ndarray"
      ]
     },
     "execution_count": 4,
     "metadata": {},
     "output_type": "execute_result"
    }
   ],
   "source": [
    "type(a_t)"
   ]
  },
  {
   "cell_type": "markdown",
   "metadata": {},
   "source": [
    "Get all the elements that are more than 0 and sort them already.\n",
    "Then, go through the 0s array.\n",
    "Sort the array skipping the -1.\n"
   ]
  },
  {
   "cell_type": "code",
   "execution_count": 17,
   "metadata": {},
   "outputs": [],
   "source": [
    "a = [-1, 150, 190, 170, -1, -1, 160, 180]\n",
    "for i in range(len(a)-1):\n",
    "    if a[i] == -1:\n",
    "        continue\n",
    "#     if a[i+1] == -1:\n",
    "#         continue\n",
    "    if a[i] > a[i+1]:\n",
    "        if a[i+1] == -1:\n",
    "#             a[i+1] = a[i+2]\n",
    "            # if a[i] > a[i+1]\n",
    "            # if a[i+1] == -1\n",
    "            mix = a[i]\n",
    "            continue\n",
    "        else:\n",
    "            a[i], a[i+1] = a[i+1], a[i]\n"
   ]
  },
  {
   "cell_type": "code",
   "execution_count": 26,
   "metadata": {},
   "outputs": [],
   "source": [
    "a_t = np.zeros(len(a))"
   ]
  },
  {
   "cell_type": "code",
   "execution_count": 8,
   "metadata": {},
   "outputs": [
    {
     "data": {
      "text/plain": [
       "[150, 160, 170, 180, 190]"
      ]
     },
     "execution_count": 8,
     "metadata": {},
     "output_type": "execute_result"
    }
   ],
   "source": [
    "# sorts the elements in array if i > 0\n",
    "a_s = sorted([i for i in a if i>0])\n",
    "a_s"
   ]
  },
  {
   "cell_type": "code",
   "execution_count": 10,
   "metadata": {},
   "outputs": [],
   "source": [
    "# enumerate exposes the indices of the elements in array a:\n",
    "# once we have the indices, we can use them to insert in specific places\n",
    "# in the original array\n",
    "for n, i in enumerate(a):\n",
    "    if i == -1:\n",
    "        a_s.insert(n, i)\n",
    "        "
   ]
  },
  {
   "cell_type": "code",
   "execution_count": 6,
   "metadata": {},
   "outputs": [
    {
     "data": {
      "text/plain": [
       "[-1, 150, 160, 170, -1, -1, 180, 190]"
      ]
     },
     "execution_count": 6,
     "metadata": {},
     "output_type": "execute_result"
    }
   ],
   "source": [
    "a_s"
   ]
  },
  {
   "cell_type": "code",
   "execution_count": 9,
   "metadata": {},
   "outputs": [
    {
     "name": "stdout",
     "output_type": "stream",
     "text": [
      "0 -1\n",
      "1 150\n",
      "2 190\n",
      "3 170\n",
      "4 -1\n",
      "5 -1\n",
      "6 160\n",
      "7 180\n"
     ]
    }
   ],
   "source": [
    "for n, i in enumerate(a):\n",
    "    print(n,i)"
   ]
  },
  {
   "cell_type": "code",
   "execution_count": null,
   "metadata": {},
   "outputs": [],
   "source": []
  },
  {
   "cell_type": "markdown",
   "metadata": {},
   "source": [
    "# InputStrings Changing\n",
    "\n",
    "- Remove '()' from strings and return the strings reversed"
   ]
  },
  {
   "cell_type": "code",
   "execution_count": null,
   "metadata": {},
   "outputs": [],
   "source": [
    "def find_paran(input_s):\n",
    "    para = input_s.find('(')\n",
    "    para2 = input_s.find('(')\n",
    "    # get the word from the string:\n",
    "    word = input_s[para+1:para2]\n",
    "    # check for another parantheses in the word:\n",
    "    para_w = word.find('(')"
   ]
  },
  {
   "cell_type": "code",
   "execution_count": 65,
   "metadata": {},
   "outputs": [
    {
     "name": "stdout",
     "output_type": "stream",
     "text": [
      "ba\n"
     ]
    }
   ],
   "source": [
    "para_w = second.find('(')\n",
    "# para_w = third.find('()')\n",
    "# para_w\n",
    "if para_w != -1:\n",
    "#     print(para_w)\n",
    "    # that means the word contains another string:\n",
    "    # so slice the word using the string:\n",
    "    para2_w = second.find(')')\n",
    "    word_2 = second[para_w+1:para2_w]\n",
    "    print(word_2)"
   ]
  },
  {
   "cell_type": "code",
   "execution_count": 29,
   "metadata": {},
   "outputs": [],
   "source": [
    "for n, i in enumerate(input_s):\n",
    "#     print(n,i)\n",
    "    word = input_s[para:para2]"
   ]
  },
  {
   "cell_type": "code",
   "execution_count": 66,
   "metadata": {},
   "outputs": [],
   "source": [
    "para = input_s.find('(')\n",
    "para2 = input_s.find(')')"
   ]
  },
  {
   "cell_type": "code",
   "execution_count": 72,
   "metadata": {},
   "outputs": [
    {
     "data": {
      "text/plain": [
       "('foo', 'bar(baz))', 'blim')"
      ]
     },
     "execution_count": 72,
     "metadata": {},
     "output_type": "execute_result"
    }
   ],
   "source": [
    "first=input_s[:para]\n",
    "second=input_s[para+1:para2+2]\n",
    "third=input_s[para2+2:]\n",
    "first,second,third"
   ]
  },
  {
   "cell_type": "code",
   "execution_count": 39,
   "metadata": {},
   "outputs": [
    {
     "data": {
      "text/plain": [
       "'rab'"
      ]
     },
     "execution_count": 39,
     "metadata": {},
     "output_type": "execute_result"
    }
   ],
   "source": [
    "second = second[::-1]\n",
    "second"
   ]
  },
  {
   "cell_type": "code",
   "execution_count": 40,
   "metadata": {},
   "outputs": [
    {
     "data": {
      "text/plain": [
       "'Foorabzad'"
      ]
     },
     "execution_count": 40,
     "metadata": {},
     "output_type": "execute_result"
    }
   ],
   "source": [
    "return_s = first+second+third\n",
    "return_s"
   ]
  },
  {
   "cell_type": "code",
   "execution_count": 44,
   "metadata": {},
   "outputs": [],
   "source": [
    "word = input_s[para+1:para2]"
   ]
  },
  {
   "cell_type": "code",
   "execution_count": 43,
   "metadata": {},
   "outputs": [
    {
     "data": {
      "text/plain": [
       "'(bar'"
      ]
     },
     "execution_count": 43,
     "metadata": {},
     "output_type": "execute_result"
    }
   ],
   "source": [
    "word"
   ]
  },
  {
   "cell_type": "code",
   "execution_count": 32,
   "metadata": {},
   "outputs": [
    {
     "data": {
      "text/plain": [
       "'rab'"
      ]
     },
     "execution_count": 32,
     "metadata": {},
     "output_type": "execute_result"
    }
   ],
   "source": [
    "word[::-1]"
   ]
  },
  {
   "cell_type": "code",
   "execution_count": 51,
   "metadata": {},
   "outputs": [],
   "source": [
    "type_brackets = ['()', '{}', '[]']\n",
    "while any(x in input_s for x in type_brackets):\n",
    "    print(x)"
   ]
  },
  {
   "cell_type": "code",
   "execution_count": 52,
   "metadata": {},
   "outputs": [
    {
     "data": {
      "text/plain": [
       "3"
      ]
     },
     "execution_count": 52,
     "metadata": {},
     "output_type": "execute_result"
    }
   ],
   "source": [
    "input_s = 'foo(bar(baz))blim'\n",
    "p_s = input_s.find('(')\n",
    "p_s"
   ]
  },
  {
   "cell_type": "code",
   "execution_count": 88,
   "metadata": {},
   "outputs": [],
   "source": [
    "input_s = 'foo(bar(baz))blim'"
   ]
  },
  {
   "cell_type": "code",
   "execution_count": 96,
   "metadata": {},
   "outputs": [
    {
     "name": "stdout",
     "output_type": "stream",
     "text": [
      "0 f\n",
      "1 o\n",
      "2 o\n",
      "3 (\n",
      "4 b\n",
      "5 a\n",
      "6 r\n",
      "7 (\n",
      "8 b\n",
      "9 a\n",
      "10 z\n",
      "11 )\n",
      "12 )\n",
      "13 b\n",
      "14 l\n",
      "15 i\n",
      "16 m\n"
     ]
    }
   ],
   "source": [
    "for n,i in enumerate(input_s):\n",
    "    print(n,i)"
   ]
  },
  {
   "cell_type": "code",
   "execution_count": 104,
   "metadata": {},
   "outputs": [
    {
     "name": "stdout",
     "output_type": "stream",
     "text": [
      "bar(baz))blim\n",
      "substr2: baz))blim\n",
      "3\n",
      "substr2: baz))blim\n",
      "sub_2: )blim\n"
     ]
    },
    {
     "data": {
      "text/plain": [
       "'bar(ba'"
      ]
     },
     "execution_count": 104,
     "metadata": {},
     "output_type": "execute_result"
    }
   ],
   "source": [
    "'''\n",
    "Find the brackets and the string in-between\n",
    "'''\n",
    "def subs(str_i):\n",
    "    # take in the string, find the ( ) and then resolve the issue:\n",
    "    i = str_i.find('(')\n",
    "    # slice it\n",
    "    substr = str_i[i+1:]\n",
    "    print(substr)\n",
    "    x = substr.find('(')\n",
    "    if x != -1:\n",
    "        # we need to find the substring:\n",
    "        substr2 = substr[x+1:]\n",
    "        print('substr2:', substr2)\n",
    "        x_2 = substr2.find(')')\n",
    "        print(x_2)\n",
    "        substr_2 = substr2[:x_2]\n",
    "        print('substr2:', substr2)\n",
    "        # reverse teh substr2\n",
    "        substr_2 = substr_2[::-1]\n",
    "        \n",
    "        #rest half:\n",
    "        sub_2 = substr2[x_2+1:]\n",
    "        \n",
    "        print('sub_2:', sub_2)\n",
    "    if x == -1:\n",
    "        # work with substr\n",
    "        i_2 = substr.find(')')\n",
    "        sub = substr[:i_2]\n",
    "        print(\"Sub:\", sub)\n",
    "    substr_1 = substr.find(')')\n",
    "    sub_str = substr[:substr_1-1]\n",
    "    return sub_str\n",
    "\n",
    "subs(input_s)"
   ]
  },
  {
   "cell_type": "code",
   "execution_count": 84,
   "metadata": {},
   "outputs": [
    {
     "name": "stdout",
     "output_type": "stream",
     "text": [
      "i: 3\n",
      "part_s: bar(baz))zad\n",
      "x: 3\n"
     ]
    },
    {
     "ename": "NameError",
     "evalue": "name 'subs_1' is not defined",
     "output_type": "error",
     "traceback": [
      "\u001b[1;31m---------------------------------------------------------------------------\u001b[0m",
      "\u001b[1;31mNameError\u001b[0m                                 Traceback (most recent call last)",
      "\u001b[1;32m<ipython-input-84-e88f584c304d>\u001b[0m in \u001b[0;36m<module>\u001b[1;34m\u001b[0m\n\u001b[0;32m     21\u001b[0m     \u001b[0msubs_2_i\u001b[0m \u001b[1;33m=\u001b[0m \u001b[0msubs_2\u001b[0m\u001b[1;33m[\u001b[0m\u001b[1;33m:\u001b[0m\u001b[1;33m:\u001b[0m\u001b[1;33m-\u001b[0m\u001b[1;36m1\u001b[0m\u001b[1;33m]\u001b[0m\u001b[1;33m\u001b[0m\u001b[1;33m\u001b[0m\u001b[0m\n\u001b[0;32m     22\u001b[0m     \u001b[1;31m# after reversing the second string, we combine it with the first half part:\u001b[0m\u001b[1;33m\u001b[0m\u001b[1;33m\u001b[0m\u001b[1;33m\u001b[0m\u001b[0m\n\u001b[1;32m---> 23\u001b[1;33m \u001b[0msubs_\u001b[0m \u001b[1;33m=\u001b[0m \u001b[0msubs_1\u001b[0m\u001b[1;33m+\u001b[0m\u001b[0msubs_2_i\u001b[0m\u001b[1;33m\u001b[0m\u001b[1;33m\u001b[0m\u001b[0m\n\u001b[0m\u001b[0;32m     24\u001b[0m \u001b[0msubs_\u001b[0m \u001b[1;33m=\u001b[0m \u001b[0msubs\u001b[0m\u001b[1;33m[\u001b[0m\u001b[1;33m:\u001b[0m\u001b[1;33m:\u001b[0m\u001b[1;33m-\u001b[0m\u001b[1;36m1\u001b[0m\u001b[1;33m]\u001b[0m\u001b[1;33m\u001b[0m\u001b[1;33m\u001b[0m\u001b[0m\n\u001b[0;32m     25\u001b[0m \u001b[0mreturn_s\u001b[0m \u001b[1;33m=\u001b[0m \u001b[0mfirst\u001b[0m\u001b[1;33m+\u001b[0m\u001b[0msubs_\u001b[0m\u001b[1;33m+\u001b[0m\u001b[0msecond\u001b[0m\u001b[1;33m\u001b[0m\u001b[1;33m\u001b[0m\u001b[0m\n",
      "\u001b[1;31mNameError\u001b[0m: name 'subs_1' is not defined"
     ]
    }
   ],
   "source": [
    "i = input_s.find('(')\n",
    "print('i:', i)\n",
    "part_s = input_s[i+1:]\n",
    "print('part_s:', part_s)\n",
    "# check if the part string has another (\n",
    "\n",
    "x = part_s.find('(')\n",
    "print('x:', x)\n",
    "if x == -1:\n",
    "    # find the first closing bracket\n",
    "    i_2 = part_s.find(')')\n",
    "    subs_1 = part_s[i+1:i_2-1]\n",
    "    subs_1_i = subs_1[::-1]\n",
    "    first = input_s[:i-1]\n",
    "    second = input_s[i_2+1:]\n",
    "elif x != -1:\n",
    "    ppart_s = part_s[x+1:]\n",
    "    # then find the next closing parentheses\n",
    "    x_2 = ppart_s.find(')')\n",
    "    \n",
    "    subs_2 = ppart_s[:x_2-1]\n",
    "    subs_2_i = subs_2[::-1]\n",
    "    # after reversing the second string, we combine it with the first half part:\n",
    "subs_ = subs_1+subs_2_i \n",
    "subs_ = subs[::-1]\n",
    "return_s = first+subs_+second"
   ]
  },
  {
   "cell_type": "code",
   "execution_count": 75,
   "metadata": {},
   "outputs": [],
   "source": [
    "def reverseInParentheses(input_s):\n",
    "    # slice the string using the parantheses as the guidance. \n",
    "    # \n",
    "    i = input_s.find('(')\n",
    "    part_s = input_s[i+1:]\n",
    "    # check if the part string has another (\n",
    "    x = part_s.find('(')\n",
    "    if x == -1:\n",
    "        i_2 = part_s.find(')')\n",
    "        subs_1 = part_s[x+1:x-1]\n",
    "        subs_1_i = subs_1[::-1]\n",
    "        first = input_s[:i-1]\n",
    "        second = input_s[i_2+1:]\n",
    "    elif x != -1:\n",
    "        ppart_s = part_s[x+1:]\n",
    "        # then find the next closing parentheses\n",
    "        x_2 = ppart_s.find(')')\n",
    "        subs_2 = ppart_s[:x_2-1]\n",
    "        subs_2_i = subs_2[::-1]\n",
    "        # after reversing the second string, we combine it with the first half part:\n",
    "    subs_ = subs_1+subs_2_i \n",
    "    subs_ = subs[::-1]\n",
    "    return_s = first+subs_+second\n",
    "    # first = \n",
    "    # second = \n",
    "    # third = \n",
    "    return return_s"
   ]
  },
  {
   "cell_type": "code",
   "execution_count": 111,
   "metadata": {},
   "outputs": [],
   "source": [
    "def reverseStr(s):\n",
    "    for i in range(len(s)):\n",
    "        if s[i] == '(':\n",
    "            start = i\n",
    "        if s[i] == ')':\n",
    "            end = i \n",
    "\n",
    "            return reverseStr(s[:start] + s[start+1:end][::-1] + s[end+1:])\n",
    "    \n",
    "    return s"
   ]
  },
  {
   "cell_type": "code",
   "execution_count": 112,
   "metadata": {},
   "outputs": [
    {
     "data": {
      "text/plain": [
       "'foobazrabblim'"
      ]
     },
     "execution_count": 112,
     "metadata": {},
     "output_type": "execute_result"
    }
   ],
   "source": [
    "reverseStr(input_s)"
   ]
  },
  {
   "cell_type": "markdown",
   "metadata": {},
   "source": [
    "# AlternatingSums"
   ]
  },
  {
   "cell_type": "code",
   "execution_count": 38,
   "metadata": {},
   "outputs": [],
   "source": [
    "a = [50, 60, 60, 45, 70]"
   ]
  },
  {
   "cell_type": "code",
   "execution_count": 27,
   "metadata": {},
   "outputs": [],
   "source": [
    "team_1 = []\n",
    "team_2 = []"
   ]
  },
  {
   "cell_type": "code",
   "execution_count": 28,
   "metadata": {},
   "outputs": [],
   "source": [
    "for i,x in enumerate(a):\n",
    "#     team_1.append(x)\n",
    "#     print(i)\n",
    "    # append 0 to team 1 and append 2 to team 2\n",
    "    team_1.append(x)"
   ]
  },
  {
   "cell_type": "code",
   "execution_count": 43,
   "metadata": {},
   "outputs": [],
   "source": [
    "tots = []\n",
    "tots2 = []\n",
    "# for i, x in enumerate(a):\n",
    "#     tots += x\n",
    "#     i += 1\n",
    "#     tots2 += x"
   ]
  },
  {
   "cell_type": "code",
   "execution_count": 45,
   "metadata": {},
   "outputs": [
    {
     "data": {
      "text/plain": [
       "([50, 60, 70], [60, 45])"
      ]
     },
     "execution_count": 45,
     "metadata": {},
     "output_type": "execute_result"
    }
   ],
   "source": [
    "for i,x in enumerate(a):\n",
    "    if i%2 == 0:\n",
    "        tots.append(x)\n",
    "    elif i%2 != 0:\n",
    "        tots2.append(x)\n",
    "    \n",
    "tots, tots2"
   ]
  },
  {
   "cell_type": "code",
   "execution_count": 46,
   "metadata": {},
   "outputs": [
    {
     "data": {
      "text/plain": [
       "(180, 105)"
      ]
     },
     "execution_count": 46,
     "metadata": {},
     "output_type": "execute_result"
    }
   ],
   "source": [
    "sum(a[::2]),sum(a[1::2])"
   ]
  },
  {
   "cell_type": "code",
   "execution_count": 47,
   "metadata": {},
   "outputs": [
    {
     "data": {
      "text/plain": [
       "[50, 60, 70]"
      ]
     },
     "execution_count": 47,
     "metadata": {},
     "output_type": "execute_result"
    }
   ],
   "source": [
    "a[::2]"
   ]
  },
  {
   "cell_type": "code",
   "execution_count": 48,
   "metadata": {},
   "outputs": [
    {
     "data": {
      "text/plain": [
       "[60, 45]"
      ]
     },
     "execution_count": 48,
     "metadata": {},
     "output_type": "execute_result"
    }
   ],
   "source": [
    "a[1::2]"
   ]
  },
  {
   "cell_type": "code",
   "execution_count": 49,
   "metadata": {},
   "outputs": [
    {
     "data": {
      "text/plain": [
       "[50, 45]"
      ]
     },
     "execution_count": 49,
     "metadata": {},
     "output_type": "execute_result"
    }
   ],
   "source": [
    "a[::3]"
   ]
  },
  {
   "cell_type": "code",
   "execution_count": 57,
   "metadata": {},
   "outputs": [
    {
     "data": {
      "text/plain": [
       "'Euso'"
      ]
     },
     "execution_count": 57,
     "metadata": {},
     "output_type": "execute_result"
    }
   ],
   "source": [
    "s = 'ElonMuskyiscoooool'\n",
    "s[::5]"
   ]
  },
  {
   "cell_type": "code",
   "execution_count": 62,
   "metadata": {},
   "outputs": [
    {
     "data": {
      "text/plain": [
       "'*****'"
      ]
     },
     "execution_count": 62,
     "metadata": {},
     "output_type": "execute_result"
    }
   ],
   "source": [
    "len_i = 3\n",
    "ast = '*' * (len_i+2)\n",
    "ast"
   ]
  },
  {
   "cell_type": "code",
   "execution_count": 79,
   "metadata": {},
   "outputs": [],
   "source": [
    "picture = [\"abc\",\n",
    "           \"ded\"]"
   ]
  },
  {
   "cell_type": "code",
   "execution_count": 81,
   "metadata": {},
   "outputs": [
    {
     "data": {
      "text/plain": [
       "['*****', '*abc*', '*ded*', '*****']"
      ]
     },
     "execution_count": 81,
     "metadata": {},
     "output_type": "execute_result"
    }
   ],
   "source": [
    "picture"
   ]
  },
  {
   "cell_type": "code",
   "execution_count": 80,
   "metadata": {},
   "outputs": [
    {
     "name": "stdout",
     "output_type": "stream",
     "text": [
      "3\n",
      "*****\n"
     ]
    }
   ],
   "source": [
    "len_i = len(picture[0])\n",
    "for i in range(len(picture)):\n",
    "    # add a string of ** equal to the number of first element + ***\n",
    "    picture[i] = '*' + picture[i] + '*'\n",
    "    \n",
    "\n",
    "print(len_i)\n",
    "ast = '*' * (len_i+2)\n",
    "print(ast)\n",
    "# also add asteriks to the string:\n",
    "picture.insert(0, ast)\n",
    "picture.insert(len(picture), ast)\n",
    "    \n",
    "\n",
    "\n",
    "    "
   ]
  },
  {
   "cell_type": "code",
   "execution_count": 67,
   "metadata": {},
   "outputs": [],
   "source": [
    "# go to the first index, add it to one lsit\n",
    "# go to the second index and add to the second:\n",
    "\n",
    "tots = [x for i,x in enumerate(a)]"
   ]
  },
  {
   "cell_type": "code",
   "execution_count": null,
   "metadata": {},
   "outputs": [],
   "source": []
  },
  {
   "cell_type": "code",
   "execution_count": null,
   "metadata": {},
   "outputs": [],
   "source": []
  },
  {
   "cell_type": "code",
   "execution_count": null,
   "metadata": {},
   "outputs": [],
   "source": []
  },
  {
   "cell_type": "code",
   "execution_count": 41,
   "metadata": {},
   "outputs": [
    {
     "data": {
      "text/plain": [
       "[50, 60, 60, 45, 70]"
      ]
     },
     "execution_count": 41,
     "metadata": {},
     "output_type": "execute_result"
    }
   ],
   "source": [
    "tots"
   ]
  },
  {
   "cell_type": "code",
   "execution_count": 29,
   "metadata": {},
   "outputs": [
    {
     "data": {
      "text/plain": [
       "([50, 60, 60, 45, 70], [])"
      ]
     },
     "execution_count": 29,
     "metadata": {},
     "output_type": "execute_result"
    }
   ],
   "source": [
    "team_1, team_2"
   ]
  },
  {
   "cell_type": "code",
   "execution_count": 15,
   "metadata": {},
   "outputs": [
    {
     "name": "stdout",
     "output_type": "stream",
     "text": [
      "50\n",
      "60\n",
      "60\n",
      "60\n",
      "60\n",
      "45\n",
      "45\n",
      "70\n",
      "70\n"
     ]
    },
    {
     "ename": "IndexError",
     "evalue": "list index out of range",
     "output_type": "error",
     "traceback": [
      "\u001b[1;31m---------------------------------------------------------------------------\u001b[0m",
      "\u001b[1;31mIndexError\u001b[0m                                Traceback (most recent call last)",
      "\u001b[1;32m<ipython-input-15-a849b77d34a8>\u001b[0m in \u001b[0;36m<module>\u001b[1;34m\u001b[0m\n\u001b[0;32m      2\u001b[0m     \u001b[0mprint\u001b[0m\u001b[1;33m(\u001b[0m\u001b[0ma\u001b[0m\u001b[1;33m[\u001b[0m\u001b[0mi\u001b[0m\u001b[1;33m]\u001b[0m\u001b[1;33m)\u001b[0m\u001b[1;33m\u001b[0m\u001b[1;33m\u001b[0m\u001b[0m\n\u001b[0;32m      3\u001b[0m     \u001b[0mi\u001b[0m \u001b[1;33m+=\u001b[0m \u001b[1;36m1\u001b[0m\u001b[1;33m\u001b[0m\u001b[1;33m\u001b[0m\u001b[0m\n\u001b[1;32m----> 4\u001b[1;33m     \u001b[0mprint\u001b[0m\u001b[1;33m(\u001b[0m\u001b[0ma\u001b[0m\u001b[1;33m[\u001b[0m\u001b[0mi\u001b[0m\u001b[1;33m]\u001b[0m\u001b[1;33m)\u001b[0m\u001b[1;33m\u001b[0m\u001b[1;33m\u001b[0m\u001b[0m\n\u001b[0m",
      "\u001b[1;31mIndexError\u001b[0m: list index out of range"
     ]
    }
   ],
   "source": [
    "for i in range(len(a)):\n",
    "    print(a[i])\n",
    "    i += 1\n",
    "    print(a[i])"
   ]
  },
  {
   "cell_type": "code",
   "execution_count": 12,
   "metadata": {},
   "outputs": [],
   "source": [
    "for i in range(len(a)):\n",
    "    team_1.append(a[i])\n",
    "    i+1\n",
    "    team_2.append(a[i])"
   ]
  },
  {
   "cell_type": "code",
   "execution_count": 17,
   "metadata": {},
   "outputs": [
    {
     "data": {
      "text/plain": [
       "([50, 60, 60, 45, 70, 0, 1, 2, 3, 4], [50, 60, 60, 45, 70, 1, 2, 3, 4, 5])"
      ]
     },
     "execution_count": 17,
     "metadata": {},
     "output_type": "execute_result"
    }
   ],
   "source": [
    "team_1, team_2"
   ]
  },
  {
   "cell_type": "markdown",
   "metadata": {},
   "source": [
    "## areSimilar \n",
    "\n",
    "Two arrays are called similar if one can be obtained from another by swapping at most one pair of elements in one of the arrays.\n",
    "\n",
    "Given two arrays a and b, check whether they are similar."
   ]
  },
  {
   "cell_type": "code",
   "execution_count": 94,
   "metadata": {},
   "outputs": [],
   "source": [
    "# should we do count of elements?\n",
    "# the counts should be the same otherwise it is not \n",
    "a = [1, 2, 3]\n",
    "b = [3, 5, 1]"
   ]
  },
  {
   "cell_type": "code",
   "execution_count": 95,
   "metadata": {},
   "outputs": [
    {
     "data": {
      "text/plain": [
       "{1, 2, 3}"
      ]
     },
     "execution_count": 95,
     "metadata": {},
     "output_type": "execute_result"
    }
   ],
   "source": [
    "set(a)"
   ]
  },
  {
   "cell_type": "code",
   "execution_count": 100,
   "metadata": {},
   "outputs": [
    {
     "data": {
      "text/plain": [
       "True"
      ]
     },
     "execution_count": 100,
     "metadata": {},
     "output_type": "execute_result"
    }
   ],
   "source": [
    "def isSimilar(a, b):\n",
    "    '''\n",
    "    for i in b:\n",
    "        if i in set(a):\n",
    "            return True\n",
    "        else:\n",
    "            return False\n",
    "    '''\n",
    "    for i in set(a):\n",
    "        for i in set(b):\n",
    "            if a.count(i) == b.count(i):\n",
    "                return True\n",
    "            else:\n",
    "                return False\n",
    "    \n",
    "    \n",
    "    \n",
    "isSimilar(a, b)"
   ]
  },
  {
   "cell_type": "code",
   "execution_count": 98,
   "metadata": {},
   "outputs": [
    {
     "ename": "SyntaxError",
     "evalue": "'return' outside function (<ipython-input-98-8ecb4ac9b94b>, line 4)",
     "output_type": "error",
     "traceback": [
      "\u001b[1;36m  File \u001b[1;32m\"<ipython-input-98-8ecb4ac9b94b>\"\u001b[1;36m, line \u001b[1;32m4\u001b[0m\n\u001b[1;33m    return True\u001b[0m\n\u001b[1;37m    ^\u001b[0m\n\u001b[1;31mSyntaxError\u001b[0m\u001b[1;31m:\u001b[0m 'return' outside function\n"
     ]
    }
   ],
   "source": [
    "for i in set(a):\n",
    "    for i in set(b):\n",
    "        if a.count(i) == b.count(i):\n",
    "            return True\n",
    "        else:\n",
    "            return False\n",
    "#     print(a.count(i))"
   ]
  },
  {
   "cell_type": "code",
   "execution_count": 107,
   "metadata": {},
   "outputs": [],
   "source": [
    "a = [1, 2, 2]\n",
    "b =[2, 1, 1]"
   ]
  },
  {
   "cell_type": "code",
   "execution_count": 2,
   "metadata": {},
   "outputs": [],
   "source": [
    "a = [1, 3, 2]\n",
    "b = [1, 2, 3]\n",
    "\n",
    "# for i in set(a):\n",
    "#     print(a.count(i))\n",
    "#     print(b.count(i))\n",
    "    "
   ]
  },
  {
   "cell_type": "code",
   "execution_count": 4,
   "metadata": {},
   "outputs": [
    {
     "name": "stdout",
     "output_type": "stream",
     "text": [
      "True\n"
     ]
    }
   ],
   "source": [
    "# a = [1, 2, 2]\n",
    "# b = [2, 1, 1]\n",
    "# # print(set(a))\n",
    "# print(set(b))\n",
    "n = len(a)\n",
    "m = len(b)\n",
    "\n",
    "a.sort()\n",
    "b.sort()\n",
    "\n",
    "for i in range(0, n):\n",
    "     if a[i] != b[i]:\n",
    "        print(False)\n",
    "print(True)"
   ]
  },
  {
   "cell_type": "code",
   "execution_count": null,
   "metadata": {},
   "outputs": [],
   "source": [
    "i = 0\n",
    "while a:\n",
    "    a.count(i)\n",
    "    i += 1\n",
    "    print(a.count(i))"
   ]
  },
  {
   "cell_type": "code",
   "execution_count": 51,
   "metadata": {},
   "outputs": [],
   "source": [
    "\n",
    "A= [832, 998, 148, 570, 533, 561, 894, 147, 455, 279]\n",
    "B= [832, 998, 148, 570, 533, 561, 455, 147, 894, 279]\n",
    "    "
   ]
  },
  {
   "cell_type": "code",
   "execution_count": 55,
   "metadata": {},
   "outputs": [
    {
     "name": "stdout",
     "output_type": "stream",
     "text": [
      "False\n"
     ]
    }
   ],
   "source": [
    "if sorted(A) == sorted(B) and sum([a!=b for a,b in zip(A,B)])<=2:\n",
    "    print(True)\n",
    "else:\n",
    "    print(False)"
   ]
  },
  {
   "cell_type": "code",
   "execution_count": 54,
   "metadata": {},
   "outputs": [],
   "source": [
    "A= [832, 998, 148, 570, 533, 561, 894, 147, 455, 279]\n",
    "B= [832, 570, 148, 998, 533, 561, 455, 147, 894, 279]"
   ]
  },
  {
   "cell_type": "code",
   "execution_count": 52,
   "metadata": {},
   "outputs": [
    {
     "data": {
      "text/plain": [
       "[147, 148, 279, 455, 533, 561, 570, 832, 894, 998]"
      ]
     },
     "execution_count": 52,
     "metadata": {},
     "output_type": "execute_result"
    }
   ],
   "source": [
    "sorted(A)"
   ]
  },
  {
   "cell_type": "code",
   "execution_count": 53,
   "metadata": {},
   "outputs": [
    {
     "data": {
      "text/plain": [
       "[147, 148, 279, 455, 533, 561, 570, 832, 894, 998]"
      ]
     },
     "execution_count": 53,
     "metadata": {},
     "output_type": "execute_result"
    }
   ],
   "source": [
    "sorted(B)"
   ]
  },
  {
   "cell_type": "code",
   "execution_count": null,
   "metadata": {},
   "outputs": [],
   "source": []
  },
  {
   "cell_type": "code",
   "execution_count": 10,
   "metadata": {},
   "outputs": [
    {
     "data": {
      "text/plain": [
       "{147, 148, 279, 455, 533, 561, 570, 832, 894, 998}"
      ]
     },
     "execution_count": 10,
     "metadata": {},
     "output_type": "execute_result"
    }
   ],
   "source": [
    "set_a = set(a)\n",
    "set_a"
   ]
  },
  {
   "cell_type": "code",
   "execution_count": 48,
   "metadata": {},
   "outputs": [],
   "source": [
    "A = [1, 2, 1]\n",
    "B = [2, 2, 1]"
   ]
  },
  {
   "cell_type": "code",
   "execution_count": 44,
   "metadata": {},
   "outputs": [
    {
     "data": {
      "text/plain": [
       "1"
      ]
     },
     "execution_count": 44,
     "metadata": {},
     "output_type": "execute_result"
    }
   ],
   "source": [
    "sum([a!=b for a,b in zip(A,B)])"
   ]
  },
  {
   "cell_type": "code",
   "execution_count": 23,
   "metadata": {},
   "outputs": [
    {
     "ename": "TypeError",
     "evalue": "count() takes exactly one argument (0 given)",
     "output_type": "error",
     "traceback": [
      "\u001b[1;31m---------------------------------------------------------------------------\u001b[0m",
      "\u001b[1;31mTypeError\u001b[0m                                 Traceback (most recent call last)",
      "\u001b[1;32m<ipython-input-23-f11c6a8bc4f8>\u001b[0m in \u001b[0;36m<module>\u001b[1;34m\u001b[0m\n\u001b[1;32m----> 1\u001b[1;33m \u001b[0ma\u001b[0m\u001b[1;33m.\u001b[0m\u001b[0mcount\u001b[0m\u001b[1;33m(\u001b[0m\u001b[1;33m)\u001b[0m\u001b[1;33m\u001b[0m\u001b[1;33m\u001b[0m\u001b[0m\n\u001b[0m",
      "\u001b[1;31mTypeError\u001b[0m: count() takes exactly one argument (0 given)"
     ]
    }
   ],
   "source": [
    "a.count()"
   ]
  },
  {
   "cell_type": "code",
   "execution_count": 25,
   "metadata": {},
   "outputs": [],
   "source": [
    "def simi(a,b):\n",
    "    n = len(a)\n",
    "    m = len(b)\n",
    "    misc = []\n",
    "    for i in range(0, n):\n",
    "        if a.count(i) > 1 or b.count(i) > 1:\n",
    "            return False\n",
    "        if a[i] != b[i]:\n",
    "            misc.append(a[i])\n",
    "        \n",
    "    if len(misc) > 2:\n",
    "        return False\n",
    "    else:\n",
    "        return True"
   ]
  },
  {
   "cell_type": "code",
   "execution_count": 29,
   "metadata": {},
   "outputs": [
    {
     "ename": "TypeError",
     "evalue": "'int' object is not iterable",
     "output_type": "error",
     "traceback": [
      "\u001b[1;31m---------------------------------------------------------------------------\u001b[0m",
      "\u001b[1;31mTypeError\u001b[0m                                 Traceback (most recent call last)",
      "\u001b[1;32m<ipython-input-29-4dcea9ee63d5>\u001b[0m in \u001b[0;36m<module>\u001b[1;34m\u001b[0m\n\u001b[1;32m----> 1\u001b[1;33m \u001b[1;32mfor\u001b[0m \u001b[0ma\u001b[0m\u001b[1;33m,\u001b[0m\u001b[0mb\u001b[0m \u001b[1;32min\u001b[0m \u001b[0mzip\u001b[0m\u001b[1;33m(\u001b[0m\u001b[0ma\u001b[0m\u001b[1;33m,\u001b[0m\u001b[0mb\u001b[0m\u001b[1;33m)\u001b[0m\u001b[1;33m:\u001b[0m\u001b[1;33m\u001b[0m\u001b[1;33m\u001b[0m\u001b[0m\n\u001b[0m\u001b[0;32m      2\u001b[0m     \u001b[1;32mif\u001b[0m \u001b[0msum\u001b[0m\u001b[1;33m(\u001b[0m\u001b[0ma\u001b[0m\u001b[1;33m!=\u001b[0m\u001b[0mb\u001b[0m\u001b[1;33m)\u001b[0m \u001b[1;33m>\u001b[0m \u001b[1;36m2\u001b[0m\u001b[1;33m:\u001b[0m\u001b[1;33m\u001b[0m\u001b[1;33m\u001b[0m\u001b[0m\n\u001b[0;32m      3\u001b[0m         \u001b[0mprint\u001b[0m\u001b[1;33m(\u001b[0m\u001b[1;32mFalse\u001b[0m\u001b[1;33m)\u001b[0m\u001b[1;33m\u001b[0m\u001b[1;33m\u001b[0m\u001b[0m\n",
      "\u001b[1;31mTypeError\u001b[0m: 'int' object is not iterable"
     ]
    }
   ],
   "source": [
    "for a,b in zip(a,b):\n",
    "    if sum(a!=b) > 2:\n",
    "        print(False)"
   ]
  },
  {
   "cell_type": "code",
   "execution_count": 37,
   "metadata": {},
   "outputs": [
    {
     "data": {
      "text/plain": [
       "[True, False, False]"
      ]
     },
     "execution_count": 37,
     "metadata": {},
     "output_type": "execute_result"
    }
   ],
   "source": [
    "l_c = [a!=b for a,b in zip(a,b)]\n",
    "l_c"
   ]
  },
  {
   "cell_type": "code",
   "execution_count": 38,
   "metadata": {},
   "outputs": [
    {
     "data": {
      "text/plain": [
       "1"
      ]
     },
     "execution_count": 38,
     "metadata": {},
     "output_type": "execute_result"
    }
   ],
   "source": [
    "sum(l_c)"
   ]
  },
  {
   "cell_type": "code",
   "execution_count": 35,
   "metadata": {},
   "outputs": [],
   "source": [
    "if sum(l_c) >= 2:\n",
    "    print('False')"
   ]
  },
  {
   "cell_type": "code",
   "execution_count": 26,
   "metadata": {},
   "outputs": [
    {
     "data": {
      "text/plain": [
       "False"
      ]
     },
     "execution_count": 26,
     "metadata": {},
     "output_type": "execute_result"
    }
   ],
   "source": [
    "simi(a,b)"
   ]
  },
  {
   "cell_type": "code",
   "execution_count": null,
   "metadata": {},
   "outputs": [],
   "source": []
  },
  {
   "cell_type": "code",
   "execution_count": 22,
   "metadata": {},
   "outputs": [
    {
     "name": "stdout",
     "output_type": "stream",
     "text": [
      "[]\n"
     ]
    }
   ],
   "source": [
    "n = len(a)\n",
    "m = len(b)\n",
    "misc = []\n",
    "for i in range(0, n):\n",
    "#     if b[i] not in a:\n",
    "#         print(False)\n",
    "    if a.count(i) > 1:\n",
    "        return False\n",
    "    if a[i] != b[i] and b[i] not in set(a):\n",
    "        misc.append(b[i])\n",
    "# check if the elements in b[i] even exist in the \n",
    "print(misc)"
   ]
  },
  {
   "cell_type": "code",
   "execution_count": 12,
   "metadata": {},
   "outputs": [],
   "source": [
    "if len(misc) > 2:\n",
    "    printFalse"
   ]
  },
  {
   "cell_type": "code",
   "execution_count": 14,
   "metadata": {},
   "outputs": [],
   "source": [
    "a= [2, 3, 9]\n",
    "b= [10, 3, 2]"
   ]
  },
  {
   "cell_type": "code",
   "execution_count": null,
   "metadata": {},
   "outputs": [],
   "source": []
  },
  {
   "cell_type": "code",
   "execution_count": null,
   "metadata": {},
   "outputs": [],
   "source": [
    "a = [1, 1, 1]\n",
    "c = 0\n",
    "# what to do to make \n",
    "# make the difference with \n",
    "for i in a:\n",
    "    if a[i] > a[i+1]:\n",
    "        "
   ]
  },
  {
   "cell_type": "code",
   "execution_count": null,
   "metadata": {},
   "outputs": [],
   "source": []
  },
  {
   "cell_type": "code",
   "execution_count": 120,
   "metadata": {},
   "outputs": [],
   "source": [
    "a = [13, 1, 1]"
   ]
  },
  {
   "cell_type": "code",
   "execution_count": 121,
   "metadata": {},
   "outputs": [
    {
     "name": "stdout",
     "output_type": "stream",
     "text": [
      "[13]\n",
      "[13, 14]\n"
     ]
    }
   ],
   "source": [
    "diff = []\n",
    "for i in range(len(a)-1):\n",
    "\n",
    "    # find difference:\n",
    "    c = 1\n",
    "    if a[i] >= a[i+1]:\n",
    "        d = a[i] - a[i+1]\n",
    "#         diff.append(d)\n",
    "#         print(diff)\n",
    "        a[i+1] = a[i+1] + d + 1\n",
    "        diff.append(d+1)\n",
    "        print(diff)\n",
    "#         print(a[i+1])\n",
    "#         print(diff)"
   ]
  },
  {
   "cell_type": "code",
   "execution_count": 122,
   "metadata": {},
   "outputs": [
    {
     "data": {
      "text/plain": [
       "[13, 14]"
      ]
     },
     "execution_count": 122,
     "metadata": {},
     "output_type": "execute_result"
    }
   ],
   "source": [
    "diff"
   ]
  },
  {
   "cell_type": "code",
   "execution_count": 123,
   "metadata": {},
   "outputs": [
    {
     "data": {
      "text/plain": [
       "[13, 14, 15]"
      ]
     },
     "execution_count": 123,
     "metadata": {},
     "output_type": "execute_result"
    }
   ],
   "source": [
    "a"
   ]
  },
  {
   "cell_type": "code",
   "execution_count": 125,
   "metadata": {},
   "outputs": [
    {
     "data": {
      "text/plain": [
       "27"
      ]
     },
     "execution_count": 125,
     "metadata": {},
     "output_type": "execute_result"
    }
   ],
   "source": [
    "sum(diff)"
   ]
  },
  {
   "cell_type": "code",
   "execution_count": 139,
   "metadata": {},
   "outputs": [
    {
     "name": "stdout",
     "output_type": "stream",
     "text": [
      "[43, 43, 43, 43, 43, 43, 43, 43, 43, 43, 43, 43, 43, 43, 43, 43, 43, 43, 43, 43, 43, 43, 43, 43, 43, 43, 43, 43, 43, 43, 3, 3, 3, 4, 4, 4, 4, 43, 43, 43, 43, 43, 43, 43, 43, 43, 43, 43, 43, 43]\n"
     ]
    }
   ],
   "source": [
    "str_i = 'aaaaaaaaaaaaaaaaaaaaaaaaaaaaaabbbccccaaaaaaaaaaaaa'\n",
    "nums = []\n",
    "for i in str_i:\n",
    "    x = (str_i.count(i))\n",
    "    nums.append(x)\n",
    "print(nums)"
   ]
  },
  {
   "cell_type": "code",
   "execution_count": 142,
   "metadata": {},
   "outputs": [],
   "source": [
    "str_i = 'orattro'\n",
    "nums = []\n",
    "count = 0\n",
    "for i in str_i:\n",
    "    nums.append(str_i.count(i))\n",
    "    \n",
    "    if str_i.count(i) == 1:\n",
    "        count += 1\n",
    "# if count > 1:\n",
    "#     return False\n",
    "# else:\n",
    "#     return True\n",
    "\n",
    "# Rotator"
   ]
  },
  {
   "cell_type": "code",
   "execution_count": 146,
   "metadata": {},
   "outputs": [
    {
     "name": "stdout",
     "output_type": "stream",
     "text": [
      "[2, 2, 1, 2, 2, 2, 2]\n"
     ]
    }
   ],
   "source": [
    "nums = []\n",
    "for i in str_i:\n",
    "    nums.append(str_i.count(i))\n",
    "print(nums)\n",
    "# for i in nums:\n",
    "    "
   ]
  },
  {
   "cell_type": "code",
   "execution_count": 140,
   "metadata": {},
   "outputs": [],
   "source": [
    "def palindromeRearranging(str_i):\n",
    "    nums = []\n",
    "    count = 0\n",
    "    c = 0\n",
    "    if len(str_i) == 1:\n",
    "        return True\n",
    "    for i in str_i:\n",
    "        if str_i.count(i) == 1:\n",
    "            count += 1\n",
    "        elif str_i.count(i) % 2 != 0:\n",
    "            c += 1\n",
    "\n",
    "    if count >= 1 and c >= 1:\n",
    "        return False\n",
    "    if c> 1:\n",
    "        return False\n",
    "    if count > 1:\n",
    "        return False\n",
    "    else:\n",
    "        return True"
   ]
  },
  {
   "cell_type": "code",
   "execution_count": 147,
   "metadata": {},
   "outputs": [],
   "source": [
    "str_i = 'aaaaaaaaaaaaaaaaaaaaaaaaaaaaaabbbccccaaaaaaaaaaaaa'"
   ]
  },
  {
   "cell_type": "code",
   "execution_count": null,
   "metadata": {},
   "outputs": [],
   "source": []
  },
  {
   "cell_type": "code",
   "execution_count": 143,
   "metadata": {},
   "outputs": [
    {
     "name": "stdout",
     "output_type": "stream",
     "text": [
      "1\n"
     ]
    }
   ],
   "source": [
    "nums = []\n",
    "for i in set(str_i):\n",
    "    nums.append(str_i.count(i)%2)\n",
    "print(sum(nums))"
   ]
  },
  {
   "cell_type": "code",
   "execution_count": 148,
   "metadata": {},
   "outputs": [
    {
     "data": {
      "text/plain": [
       "False"
      ]
     },
     "execution_count": 148,
     "metadata": {},
     "output_type": "execute_result"
    }
   ],
   "source": [
    "palindromeRearranging(str_i)"
   ]
  },
  {
   "cell_type": "code",
   "execution_count": 144,
   "metadata": {},
   "outputs": [],
   "source": [
    "def palin(inputString):\n",
    "    return sum([inputString.count(i)%2 for i in set(inputString)]) <=1"
   ]
  },
  {
   "cell_type": "code",
   "execution_count": 149,
   "metadata": {},
   "outputs": [
    {
     "data": {
      "text/plain": [
       "False"
      ]
     },
     "execution_count": 149,
     "metadata": {},
     "output_type": "execute_result"
    }
   ],
   "source": [
    "palin(str_i)"
   ]
  },
  {
   "cell_type": "code",
   "execution_count": 130,
   "metadata": {},
   "outputs": [
    {
     "data": {
      "text/plain": [
       "[2, 2, 1, 2, 2, 2, 2]"
      ]
     },
     "execution_count": 130,
     "metadata": {},
     "output_type": "execute_result"
    }
   ],
   "source": [
    "nums"
   ]
  },
  {
   "cell_type": "code",
   "execution_count": null,
   "metadata": {},
   "outputs": [],
   "source": []
  },
  {
   "cell_type": "markdown",
   "metadata": {},
   "source": [
    "## Maximal Adjacent DIfference\n"
   ]
  },
  {
   "cell_type": "code",
   "execution_count": 3,
   "metadata": {},
   "outputs": [
    {
     "data": {
      "text/plain": [
       "3"
      ]
     },
     "execution_count": 3,
     "metadata": {},
     "output_type": "execute_result"
    }
   ],
   "source": [
    "# can we find differences between elements as a list comprehension.\n",
    "a = [2, 4, 1, 0]\n",
    "\n",
    "d = max([abs(a[i]-a[i+1]) for i in range(len(a)-1)])\n",
    "d"
   ]
  },
  {
   "cell_type": "code",
   "execution_count": 33,
   "metadata": {},
   "outputs": [],
   "source": [
    "inputString = \"172.16.254.1a\"\n",
    "# sp_str = inputString.split('.')\n",
    "# sp_str"
   ]
  },
  {
   "cell_type": "code",
   "execution_count": 22,
   "metadata": {},
   "outputs": [
    {
     "data": {
      "text/plain": [
       "True"
      ]
     },
     "execution_count": 22,
     "metadata": {},
     "output_type": "execute_result"
    }
   ],
   "source": [
    "def isIPv4Address(inputString):\n",
    "    sp_str = inputString.split('.')\n",
    "    if sp_str[0] == '':\n",
    "        return False \n",
    "    for i in sp_str:\n",
    "        if int(i) != \n",
    "        if int(i) >= 0 and int(i) <=255:\n",
    "            return True \n",
    "\n",
    "isIPv4Address(inputString)"
   ]
  },
  {
   "cell_type": "code",
   "execution_count": 16,
   "metadata": {},
   "outputs": [
    {
     "data": {
      "text/plain": [
       "4"
      ]
     },
     "execution_count": 16,
     "metadata": {},
     "output_type": "execute_result"
    }
   ],
   "source": [
    "len(sp_str)"
   ]
  },
  {
   "cell_type": "code",
   "execution_count": 24,
   "metadata": {},
   "outputs": [
    {
     "ename": "ValueError",
     "evalue": "invalid literal for int() with base 10: '1a'",
     "output_type": "error",
     "traceback": [
      "\u001b[1;31m---------------------------------------------------------------------------\u001b[0m",
      "\u001b[1;31mValueError\u001b[0m                                Traceback (most recent call last)",
      "\u001b[1;32m<ipython-input-24-92716b04f0b4>\u001b[0m in \u001b[0;36m<module>\u001b[1;34m\u001b[0m\n\u001b[1;32m----> 1\u001b[1;33m \u001b[0mint\u001b[0m\u001b[1;33m(\u001b[0m\u001b[1;34m'1a'\u001b[0m\u001b[1;33m)\u001b[0m\u001b[1;33m\u001b[0m\u001b[1;33m\u001b[0m\u001b[0m\n\u001b[0m",
      "\u001b[1;31mValueError\u001b[0m: invalid literal for int() with base 10: '1a'"
     ]
    }
   ],
   "source": [
    "int('1a')"
   ]
  },
  {
   "cell_type": "code",
   "execution_count": 17,
   "metadata": {},
   "outputs": [
    {
     "name": "stdout",
     "output_type": "stream",
     "text": [
      "False\n"
     ]
    },
    {
     "ename": "ValueError",
     "evalue": "invalid literal for int() with base 10: ''",
     "output_type": "error",
     "traceback": [
      "\u001b[1;31m---------------------------------------------------------------------------\u001b[0m",
      "\u001b[1;31mValueError\u001b[0m                                Traceback (most recent call last)",
      "\u001b[1;32m<ipython-input-17-fe843d923452>\u001b[0m in \u001b[0;36m<module>\u001b[1;34m\u001b[0m\n\u001b[0;32m      2\u001b[0m     \u001b[0mprint\u001b[0m\u001b[1;33m(\u001b[0m\u001b[1;32mFalse\u001b[0m\u001b[1;33m)\u001b[0m\u001b[1;33m\u001b[0m\u001b[1;33m\u001b[0m\u001b[0m\n\u001b[0;32m      3\u001b[0m \u001b[1;32mfor\u001b[0m \u001b[0mi\u001b[0m \u001b[1;32min\u001b[0m \u001b[0msp_str\u001b[0m\u001b[1;33m:\u001b[0m\u001b[1;33m\u001b[0m\u001b[1;33m\u001b[0m\u001b[0m\n\u001b[1;32m----> 4\u001b[1;33m     \u001b[1;32mif\u001b[0m \u001b[0mint\u001b[0m\u001b[1;33m(\u001b[0m\u001b[0mi\u001b[0m\u001b[1;33m)\u001b[0m \u001b[1;33m>=\u001b[0m \u001b[1;36m0\u001b[0m \u001b[1;32mand\u001b[0m \u001b[0mint\u001b[0m\u001b[1;33m(\u001b[0m\u001b[0mi\u001b[0m\u001b[1;33m)\u001b[0m \u001b[1;33m<=\u001b[0m \u001b[1;36m255\u001b[0m\u001b[1;33m:\u001b[0m\u001b[1;33m\u001b[0m\u001b[1;33m\u001b[0m\u001b[0m\n\u001b[0m\u001b[0;32m      5\u001b[0m         \u001b[0mprint\u001b[0m\u001b[1;33m(\u001b[0m\u001b[1;32mFalse\u001b[0m\u001b[1;33m)\u001b[0m\u001b[1;33m\u001b[0m\u001b[1;33m\u001b[0m\u001b[0m\n",
      "\u001b[1;31mValueError\u001b[0m: invalid literal for int() with base 10: ''"
     ]
    }
   ],
   "source": [
    "if sp_str[0] == '':\n",
    "    print(False)\n",
    "for i in sp_str:\n",
    "    if int(i) >= 0 and int(i) <= 255:\n",
    "        print(False)"
   ]
  },
  {
   "cell_type": "code",
   "execution_count": 58,
   "metadata": {},
   "outputs": [],
   "source": [
    "inputString = \"172.16.254.1\""
   ]
  },
  {
   "cell_type": "code",
   "execution_count": 63,
   "metadata": {},
   "outputs": [],
   "source": [
    "inputString= \"172.16.254.1\""
   ]
  },
  {
   "cell_type": "code",
   "execution_count": 91,
   "metadata": {},
   "outputs": [],
   "source": [
    "inputString = \"0.254.255.0a\""
   ]
  },
  {
   "cell_type": "code",
   "execution_count": 95,
   "metadata": {},
   "outputs": [],
   "source": [
    "inputString = \"172.316.254.1\""
   ]
  },
  {
   "cell_type": "code",
   "execution_count": 109,
   "metadata": {},
   "outputs": [],
   "source": [
    "sp_str = ['64', '233', '161', '00']"
   ]
  },
  {
   "cell_type": "code",
   "execution_count": 110,
   "metadata": {},
   "outputs": [],
   "source": [
    "inputString= \"64.233.161.00\""
   ]
  },
  {
   "cell_type": "markdown",
   "metadata": {},
   "source": [
    "### MyAnswer"
   ]
  },
  {
   "cell_type": "code",
   "execution_count": 144,
   "metadata": {},
   "outputs": [],
   "source": [
    "\n",
    "def count(lst):\n",
    "    return sum(bool(x) for x in lst)\n",
    "def isIPv4Address(inputString):\n",
    "    sp_str = inputString.split('.')\n",
    "    print('sp_str:', sp_str)\n",
    "    if sp_str[0] == '':\n",
    "        return False\n",
    "    t_f = []\n",
    "    for i in sp_str:\n",
    "        if i.isdigit():\n",
    "            print('is_digit:', i)\n",
    "            if i == '01' or i == '00':\n",
    "                return False \n",
    "            if i[0] == '0':\n",
    "                return False\n",
    "            if int(i) >= 0 and int(i) <=255:\n",
    "                t_f.append(True)\n",
    "                print('t_f:', t_f)\n",
    "            else:\n",
    "                t_f.append(False)\n",
    "\n",
    "    print(t_f)\n",
    "    print('sum', count(t_f))\n",
    "    sum_l = count(t_f)\n",
    "    if sum_l != len(sp_str):\n",
    "        return False\n",
    "    else:\n",
    "        return True"
   ]
  },
  {
   "cell_type": "code",
   "execution_count": 141,
   "metadata": {},
   "outputs": [],
   "source": [
    "string = '3232.3232.32'"
   ]
  },
  {
   "cell_type": "code",
   "execution_count": 142,
   "metadata": {},
   "outputs": [],
   "source": [
    "def check(arr):\n",
    "    p = arr.split('.')\n",
    "    return len(p) >=2 and all(n.isdigit() and int(n) %32 == 0 for n in p)"
   ]
  },
  {
   "cell_type": "code",
   "execution_count": 143,
   "metadata": {},
   "outputs": [
    {
     "data": {
      "text/plain": [
       "True"
      ]
     },
     "execution_count": 143,
     "metadata": {},
     "output_type": "execute_result"
    }
   ],
   "source": [
    "check(string)"
   ]
  },
  {
   "cell_type": "code",
   "execution_count": 124,
   "metadata": {},
   "outputs": [
    {
     "data": {
      "text/plain": [
       "1"
      ]
     },
     "execution_count": 124,
     "metadata": {},
     "output_type": "execute_result"
    }
   ],
   "source": [
    "int('01')"
   ]
  },
  {
   "cell_type": "code",
   "execution_count": 125,
   "metadata": {},
   "outputs": [
    {
     "name": "stdout",
     "output_type": "stream",
     "text": [
      "sp_str: ['64', '233', '161', '00']\n",
      "is_digit: 64\n",
      "t_f: [True]\n",
      "is_digit: 233\n",
      "t_f: [True, True]\n",
      "is_digit: 161\n",
      "t_f: [True, True, True]\n",
      "is_digit: 00\n"
     ]
    },
    {
     "data": {
      "text/plain": [
       "False"
      ]
     },
     "execution_count": 125,
     "metadata": {},
     "output_type": "execute_result"
    }
   ],
   "source": [
    "isIPv4Address(inputString)"
   ]
  },
  {
   "cell_type": "markdown",
   "metadata": {},
   "source": [
    "### Efficient solution:"
   ]
  },
  {
   "cell_type": "code",
   "execution_count": 145,
   "metadata": {},
   "outputs": [],
   "source": [
    "def isIPv4Address(arr):\n",
    "    p = arr.split('.')\n",
    "    return len(p) == 4 and all(n.isdigit() and 0 <= int(n) <256 for n in p)\n"
   ]
  },
  {
   "cell_type": "markdown",
   "metadata": {},
   "source": [
    "# Biggest jumps"
   ]
  },
  {
   "cell_type": "code",
   "execution_count": 28,
   "metadata": {},
   "outputs": [],
   "source": [
    "inputArray = [5, 3, 6, 7, 9]\n"
   ]
  },
  {
   "cell_type": "code",
   "execution_count": 29,
   "metadata": {},
   "outputs": [],
   "source": [
    "def aO(arr):\n",
    "    # sort the array first\n",
    "    d = []\n",
    "    arr = sorted(arr)\n",
    "    for i in range(len(sorted(arr))-1):\n",
    "        print(arr)\n",
    "        dis = arr[i+1] - arr[i]\n",
    "        if dis > 1:\n",
    "            d.append(dis)\n",
    "    return d"
   ]
  },
  {
   "cell_type": "code",
   "execution_count": 30,
   "metadata": {},
   "outputs": [
    {
     "name": "stdout",
     "output_type": "stream",
     "text": [
      "[3, 5, 6, 7, 9]\n",
      "[3, 5, 6, 7, 9]\n",
      "[3, 5, 6, 7, 9]\n",
      "[3, 5, 6, 7, 9]\n"
     ]
    },
    {
     "data": {
      "text/plain": [
       "[2, 2]"
      ]
     },
     "execution_count": 30,
     "metadata": {},
     "output_type": "execute_result"
    }
   ],
   "source": [
    "aO(inputArray)"
   ]
  },
  {
   "cell_type": "code",
   "execution_count": null,
   "metadata": {},
   "outputs": [],
   "source": []
  },
  {
   "cell_type": "markdown",
   "metadata": {},
   "source": [
    "# Important Python Concepts"
   ]
  },
  {
   "cell_type": "markdown",
   "metadata": {},
   "source": [
    " ### 1. Set()\n",
    "Python sets are used to store multiple items in a single variable. For example, if we wanted to get a count of variables in the set, instead of doing:\n",
    "```\n",
    "for i in a:\n",
    "    print(count(i))\n",
    "```\n",
    "We can do:"
   ]
  },
  {
   "cell_type": "code",
   "execution_count": 146,
   "metadata": {},
   "outputs": [],
   "source": [
    "a = ['b', 'a', 's', 'o','s', 'a']"
   ]
  },
  {
   "cell_type": "code",
   "execution_count": 149,
   "metadata": {},
   "outputs": [
    {
     "data": {
      "text/plain": [
       "[1, 2, 1, 2]"
      ]
     },
     "execution_count": 149,
     "metadata": {},
     "output_type": "execute_result"
    }
   ],
   "source": [
    "l = [a.count(i) for i in set(a)]\n",
    "l"
   ]
  },
  {
   "cell_type": "markdown",
   "metadata": {},
   "source": [
    "### 2. Enumerate()\n",
    "\n",
    "While working with arrays where you might need to insert in a specific index location, it is very helpful to enumerate arrays that provide with 2 columns, one with indices and the other with values.\n",
    "WE can do so:\n",
    "\n",
    "```\n",
    "for a, b in enumerate(a):\n",
    "    print(a,b)\n",
    "    \n",
    "```"
   ]
  },
  {
   "cell_type": "code",
   "execution_count": 151,
   "metadata": {},
   "outputs": [
    {
     "name": "stdout",
     "output_type": "stream",
     "text": [
      "0 b\n",
      "1 a\n",
      "2 s\n",
      "3 o\n",
      "4 s\n",
      "5 a\n"
     ]
    }
   ],
   "source": [
    "for a,b in enumerate(a):\n",
    "    print(a,b )"
   ]
  },
  {
   "cell_type": "markdown",
   "metadata": {},
   "source": [
    "### Example:\n",
    "\n",
    "Some people are standing in a row in a park. There are trees between them which cannot be moved. Your task is to rearrange the people by their heights in a non-descending order without moving the trees. People can be very tall!\n",
    "\n",
    "Example\n",
    "\n",
    "For a = [-1, 150, 190, 170, -1, -1, 160, 180], the output should be\n",
    "sortByHeight(a) = [-1, 150, 160, 170, -1, -1, 180, 190].\n"
   ]
  },
  {
   "cell_type": "code",
   "execution_count": 152,
   "metadata": {},
   "outputs": [],
   "source": [
    "\n",
    "def sortByHeight(a):\n",
    "    # we can do another array that is the same length as the original one and replace the 0s with \n",
    "    a_s = sorted([i for i in a if i>0])\n",
    "    for n, i in enumerate(a):\n",
    "        if i ==-1:\n",
    "            a_s.insert(n, i)\n",
    "    return a_s\n"
   ]
  },
  {
   "cell_type": "code",
   "execution_count": null,
   "metadata": {},
   "outputs": [],
   "source": []
  },
  {
   "cell_type": "code",
   "execution_count": null,
   "metadata": {},
   "outputs": [],
   "source": []
  },
  {
   "cell_type": "code",
   "execution_count": null,
   "metadata": {},
   "outputs": [],
   "source": []
  },
  {
   "cell_type": "code",
   "execution_count": null,
   "metadata": {},
   "outputs": [],
   "source": []
  }
 ],
 "metadata": {
  "kernelspec": {
   "display_name": "Python 3",
   "language": "python",
   "name": "python3"
  },
  "language_info": {
   "codemirror_mode": {
    "name": "ipython",
    "version": 3
   },
   "file_extension": ".py",
   "mimetype": "text/x-python",
   "name": "python",
   "nbconvert_exporter": "python",
   "pygments_lexer": "ipython3",
   "version": "3.8.5"
  }
 },
 "nbformat": 4,
 "nbformat_minor": 4
}
