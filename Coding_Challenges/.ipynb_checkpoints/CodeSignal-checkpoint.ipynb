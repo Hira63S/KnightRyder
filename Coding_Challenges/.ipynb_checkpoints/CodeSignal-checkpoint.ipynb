{
 "cells": [
  {
   "cell_type": "markdown",
   "metadata": {},
   "source": [
    "# CodeSignal Level 1"
   ]
  },
  {
   "cell_type": "markdown",
   "metadata": {},
   "source": [
    "Given a year, return the century it is in. The first century spans from the year 1 up to and including the year 100, the second - from the year 101 up to and including the year 200, etc.\n",
    "\n",
    "Example\n",
    "\n",
    "For year = 1905, the output should be\n",
    "centuryFromYear(year) = 20;\n",
    "For year = 1700, the output should be\n",
    "centuryFromYear(year) = 17."
   ]
  },
  {
   "cell_type": "code",
   "execution_count": 2,
   "metadata": {},
   "outputs": [],
   "source": [
    "def centuryFromYear(year):\n",
    "    return (year + 99) // 100\n",
    "\n",
    "\n",
    "def centuryFromYear(year):\n",
    "    return math.ceil(year/100)"
   ]
  },
  {
   "cell_type": "code",
   "execution_count": null,
   "metadata": {},
   "outputs": [],
   "source": []
  }
 ],
 "metadata": {
  "kernelspec": {
   "display_name": "Python 3",
   "language": "python",
   "name": "python3"
  },
  "language_info": {
   "codemirror_mode": {
    "name": "ipython",
    "version": 3
   },
   "file_extension": ".py",
   "mimetype": "text/x-python",
   "name": "python",
   "nbconvert_exporter": "python",
   "pygments_lexer": "ipython3",
   "version": "3.8.5"
  }
 },
 "nbformat": 4,
 "nbformat_minor": 4
}
